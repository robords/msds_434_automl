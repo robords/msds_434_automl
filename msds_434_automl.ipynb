{
 "cells": [
  {
   "cell_type": "markdown",
   "id": "cc143f72",
   "metadata": {},
   "source": [
    "### Week 6:\n",
    "\n",
    "Train a multi-class classification model on AutoML.   \n",
    "\n",
    "https://towardsdatascience.com/the-best-of-both-worlds-calling-auto-ml-from-bigquery-9dfd433a45d6    \n",
    "https://cloud.google.com/blog/products/ai-machine-learning/use-automl-tables-from-a-jupyter-notebook \n",
    "\n",
    "\n",
    "Using the NOAA dataset again:\n",
    "\n",
    "* The target column should be the \"element\" column, filtered for the weather types (i.e. WT**)\n",
    "* The feature columns should be id, and date, and the columns from the `bigquery-public-data.ghcn_d.ghcnd_stations` at least\n",
    "\n",
    "For the others,they will need to be investigated to see if they have any relevant features:\n",
    "`bigquery-public-data.ghcn_d.ghcnd_countries`\n",
    "`bigquery-public-data.ghcn_d.ghcnd_inventory`\n",
    "`bigquery-public-data.ghcn_d.ghcnd_states`\n",
    "\n",
    "\n",
    "This time, we are not filtering for just a specific city, i.e. Chicago, because we want to know if there are patterns by location"
   ]
  },
  {
   "cell_type": "code",
   "execution_count": 1,
   "id": "afce01e9",
   "metadata": {},
   "outputs": [],
   "source": [
    "from app_creds import set_env\n",
    "set_env()\n",
    "\n",
    "#from google.cloud import automl\n",
    "from google.cloud import automl_v1beta1\n",
    "\n",
    "from google.cloud import bigquery\n",
    "# Construct a BigQuery client object.\n",
    "bq_client = bigquery.Client()"
   ]
  },
  {
   "cell_type": "markdown",
   "id": "8e4be1e1",
   "metadata": {},
   "source": [
    "## Get the weather-type categorical variables from the weather dataset\n",
    "\n",
    "https://docs.opendata.aws/noaa-ghcn-pds/readme.html\n",
    "\n",
    "__WT** = Weather Type where ** has one of the following values:__    \n",
    "\n",
    "01 = Fog, ice fog, or freezing fog (may include heavy fog)    \n",
    "02 = Heavy fog or heaving freezing fog (not always distinguished from fog)    \n",
    "03 = Thunder    \n",
    "04 = Ice pellets, sleet, snow pellets, or small hail    \n",
    "05 = Hail (may include small hail)    \n",
    "06 = Glaze or rime    \n",
    "07 = Dust, volcanic ash, blowing dust, blowing sand, or blowing obstruction    \n",
    "08 = Smoke or haze    \n",
    "09 = Blowing or drifting snow    \n",
    "10 = Tornado, waterspout, or funnel cloud    \n",
    "11 = High or damaging winds    \n",
    "12 = Blowing spray    \n",
    "13 = Mist    \n",
    "14 = Drizzle    \n",
    "15 = Freezing drizzl    \n",
    "16 = Rain (may include freezing rain, drizzle, and freezing drizzle)    \n",
    "17 = Freezing rain    \n",
    "18 = Snow, snow pellets, snow grains, or ice crystals    \n",
    "19 = Unknown source of precipitation    \n",
    "21 = Ground fog    \n",
    "22 = Ice fog or freezing fog   "
   ]
  },
  {
   "cell_type": "code",
   "execution_count": 56,
   "id": "4183c55d",
   "metadata": {},
   "outputs": [
    {
     "name": "stdout",
     "output_type": "stream",
     "text": [
      "This query will process None bytes.\n"
     ]
    }
   ],
   "source": [
    "get_data_query = \"\"\"\n",
    "WITH get_counts AS (\n",
    "SELECT\n",
    "  yd.id, COUNT(*) num_rows\n",
    "FROM\n",
    "  `bigquery-public-data.ghcn_d.ghcnd_2022` as yd\n",
    "  JOIN `bigquery-public-data.ghcn_d.ghcnd_stations` sd\n",
    "  ON yd.id = sd.id\n",
    "WHERE yd.qflag IS NULL\n",
    "AND yd.element LIKE 'WT%%'\n",
    "GROUP BY yd.id\n",
    "HAVING num_rows > 2)\n",
    "SELECT\n",
    "  yd.id, yd.date, yd.element,\n",
    "  sd.name, sd.state, sd.latitude, sd.longitude\n",
    "FROM\n",
    "  `bigquery-public-data.ghcn_d.ghcnd_2022` as yd\n",
    "  JOIN `bigquery-public-data.ghcn_d.ghcnd_stations` sd\n",
    "  ON yd.id = sd.id\n",
    "  JOIN get_counts gc ON yd.id = gc.id\n",
    "WHERE yd.qflag IS NULL\n",
    "AND yd.element LIKE 'WT%%'\n",
    "AND yd.element <> 'WT10'\n",
    "\"\"\"\n",
    "_2022_query_job = bq_client.query(get_data_query)\n",
    "\n",
    "# A dry run query completes immediately, it should give me an estimate of costs\n",
    "print(\"This query will process {} bytes.\".format(_2022_query_job.total_bytes_processed))\n",
    "\n",
    "weather_and_state_dataframe = _2022_query_job.to_dataframe()"
   ]
  },
  {
   "cell_type": "code",
   "execution_count": 57,
   "id": "dc846396",
   "metadata": {},
   "outputs": [
    {
     "name": "stdout",
     "output_type": "stream",
     "text": [
      "['WT11' 'WT01' 'WT08' 'WT02' 'WT09' 'WT06' 'WT07' 'WT03' 'WT05' 'WT04']\n",
      "WT01    92018\n",
      "WT03    49498\n",
      "WT08    28407\n",
      "WT02    12243\n",
      "WT06     3445\n",
      "WT11     2926\n",
      "WT04     2607\n",
      "WT05     1571\n",
      "WT09      788\n",
      "WT07      118\n",
      "Name: element, dtype: int64\n"
     ]
    }
   ],
   "source": [
    "## Categorical requirements for the label: https://cloud.google.com/automl-tables/docs/prepare\n",
    "# If it is Categorical, it must have at least 2 and no more than 500 distinct values.\n",
    "print(weather_and_state_dataframe['element'].unique())\n",
    "print(weather_and_state_dataframe['element'].value_counts())"
   ]
  },
  {
   "cell_type": "code",
   "execution_count": 58,
   "id": "b3d72b10",
   "metadata": {
    "scrolled": false
   },
   "outputs": [
    {
     "name": "stdout",
     "output_type": "stream",
     "text": [
      "USW00024286    530\n",
      "USW00027502    483\n",
      "USW00023273    424\n",
      "USW00025713    398\n",
      "USW00023191    385\n",
      "              ... \n",
      "USC00290426      3\n",
      "USC00427714      3\n",
      "USC00143665      3\n",
      "USC00238805      3\n",
      "USC00205073      3\n",
      "Name: id, Length: 2803, dtype: int64\n",
      "2022-01-01    1301\n",
      "2022-08-21    1290\n",
      "2022-02-24    1212\n",
      "2022-08-22    1192\n",
      "2022-05-21    1158\n",
      "              ... \n",
      "2022-03-01     250\n",
      "2022-03-27     246\n",
      "2022-10-20     237\n",
      "2022-01-11     236\n",
      "2022-10-21     180\n",
      "Name: date, Length: 294, dtype: int64\n",
      "CRESCENT CITY MCNAMARA AP    530\n",
      "BARROW POST ROGERS AP        483\n",
      "SANTA MARIA PUBLIC AP        424\n",
      "ST PAUL ISLAND AP            398\n",
      "AVALON CATALINA AP           385\n",
      "                            ... \n",
      "FOREST CITY 2 NNE              3\n",
      "GROVELAND 2                    3\n",
      "LOGAN 5 SW EXP FARM            3\n",
      "LEE VINING                     3\n",
      "HIGH PT                        3\n",
      "Name: name, Length: 2743, dtype: int64\n",
      "TX    12165\n",
      "CA    11641\n",
      "FL    10299\n",
      "PA     7119\n",
      "MI     6672\n",
      "AK     6241\n",
      "OH     5833\n",
      "WI     5797\n",
      "IL     5615\n",
      "NY     5578\n",
      "MO     5504\n",
      "VA     5237\n",
      "KS     5012\n",
      "CO     4852\n",
      "NC     4848\n",
      "AR     4704\n",
      "NE     4649\n",
      "GA     4521\n",
      "IA     4415\n",
      "MN     4229\n",
      "LA     4047\n",
      "WV     3948\n",
      "WA     3822\n",
      "OR     3819\n",
      "AL     3811\n",
      "IN     3717\n",
      "KY     3515\n",
      "MT     3106\n",
      "MS     2953\n",
      "OK     2875\n",
      "TN     2827\n",
      "SD     2716\n",
      "SC     2649\n",
      "ME     2619\n",
      "WY     2561\n",
      "AZ     2212\n",
      "MA     2081\n",
      "NM     1840\n",
      "ID     1827\n",
      "ND     1824\n",
      "NH     1679\n",
      "VT     1561\n",
      "MD     1433\n",
      "NJ     1267\n",
      "UT     1185\n",
      "HI      748\n",
      "NV      670\n",
      "CT      532\n",
      "DE      402\n",
      "RI      271\n",
      "PR       62\n",
      "VI       43\n",
      "GU       35\n",
      "MP       33\n",
      "Name: state, dtype: int64\n",
      "41.7803    530\n",
      "44.3592    503\n",
      "71.2833    483\n",
      "34.8994    424\n",
      "33.8117    413\n",
      "          ... \n",
      "31.8367      3\n",
      "46.0725      3\n",
      "30.1592      3\n",
      "37.9931      3\n",
      "42.6522      3\n",
      "Name: latitude, Length: 2736, dtype: int64\n",
      "-124.2367    530\n",
      "-156.7814    483\n",
      "-120.4486    424\n",
      "-170.2222    398\n",
      "-118.4158    385\n",
      "            ... \n",
      "-103.7867      3\n",
      "-116.8400      3\n",
      "-95.8031       3\n",
      "-95.8675       3\n",
      "-77.1133       3\n",
      "Name: longitude, Length: 2787, dtype: int64\n"
     ]
    }
   ],
   "source": [
    "## Make sure there are at least 3 values for each - this gets split into test, train and validation models\n",
    "\n",
    "for col in weather_and_state_dataframe.columns:\n",
    "    if col != 'element':\n",
    "        print(weather_and_state_dataframe[col].value_counts())"
   ]
  },
  {
   "cell_type": "code",
   "execution_count": 59,
   "id": "159c7863",
   "metadata": {
    "pycharm": {
     "name": "#%%\n"
    }
   },
   "outputs": [],
   "source": [
    "target_column = 'element'"
   ]
  },
  {
   "cell_type": "code",
   "execution_count": 70,
   "id": "266da005",
   "metadata": {
    "pycharm": {
     "name": "#%%\n"
    }
   },
   "outputs": [
    {
     "name": "stdout",
     "output_type": "stream",
     "text": [
      "\n",
      "CREATE OR REPLACE MODEL `msds-434-robords-oct.weather_prediction.automl_weather_classes`\n",
      "OPTIONS(MODEL_TYPE = 'automl_classifier', budget_hours=2.0, INPUT_LABEL_COLS=['element'])\n",
      "AS \n",
      "\n",
      "WITH get_counts AS (\n",
      "SELECT\n",
      "  yd.id, COUNT(*) num_rows\n",
      "FROM\n",
      "  `bigquery-public-data.ghcn_d.ghcnd_2022` as yd\n",
      "  JOIN `bigquery-public-data.ghcn_d.ghcnd_stations` sd\n",
      "  ON yd.id = sd.id\n",
      "WHERE yd.qflag IS NULL\n",
      "AND yd.element LIKE 'WT%%'\n",
      "GROUP BY yd.id\n",
      "HAVING num_rows > 2)\n",
      "SELECT\n",
      "  yd.id, yd.date, yd.element,\n",
      "  sd.name, sd.state, sd.latitude, sd.longitude\n",
      "FROM\n",
      "  `bigquery-public-data.ghcn_d.ghcnd_2022` as yd\n",
      "  JOIN `bigquery-public-data.ghcn_d.ghcnd_stations` sd\n",
      "  ON yd.id = sd.id\n",
      "  JOIN get_counts gc ON yd.id = gc.id\n",
      "WHERE yd.qflag IS NULL\n",
      "AND yd.element LIKE 'WT%%'\n",
      "AND yd.element <> 'WT10'\n",
      "\n",
      "\n"
     ]
    }
   ],
   "source": [
    "create_model_query = f\"\"\"\n",
    "CREATE OR REPLACE MODEL `msds-434-robords-oct.weather_prediction.automl_weather_classes`\n",
    "OPTIONS(MODEL_TYPE = 'automl_classifier', budget_hours=0.25, INPUT_LABEL_COLS=['{target_column}'])\n",
    "AS \n",
    "{get_data_query}\n",
    "\"\"\"\n",
    "\n",
    "print(create_model_query)"
   ]
  },
  {
   "cell_type": "code",
   "execution_count": 71,
   "id": "31031284",
   "metadata": {
    "pycharm": {
     "name": "#%%\n"
    }
   },
   "outputs": [
    {
     "data": {
      "text/plain": [
       "QueryJob<project=msds-434-robords-oct, location=US, id=386c70d9-830c-48a1-9312-a0574c808797>"
      ]
     },
     "execution_count": 71,
     "metadata": {},
     "output_type": "execute_result"
    }
   ],
   "source": [
    "create_model = bq_client.query(create_model_query)\n",
    "create_model"
   ]
  },
  {
   "cell_type": "code",
   "execution_count": 96,
   "id": "12144a8c",
   "metadata": {},
   "outputs": [
    {
     "data": {
      "text/html": [
       "<div>\n",
       "<style scoped>\n",
       "    .dataframe tbody tr th:only-of-type {\n",
       "        vertical-align: middle;\n",
       "    }\n",
       "\n",
       "    .dataframe tbody tr th {\n",
       "        vertical-align: top;\n",
       "    }\n",
       "\n",
       "    .dataframe thead th {\n",
       "        text-align: right;\n",
       "    }\n",
       "</style>\n",
       "<table border=\"1\" class=\"dataframe\">\n",
       "  <thead>\n",
       "    <tr style=\"text-align: right;\">\n",
       "      <th></th>\n",
       "      <th>job_type</th>\n",
       "      <th>state</th>\n",
       "      <th>start_time</th>\n",
       "      <th>end_time</th>\n",
       "      <th>query</th>\n",
       "      <th>gigabytes_billed</th>\n",
       "    </tr>\n",
       "  </thead>\n",
       "  <tbody>\n",
       "    <tr>\n",
       "      <th>0</th>\n",
       "      <td>QUERY</td>\n",
       "      <td>RUNNING</td>\n",
       "      <td>2022-10-28 21:51:31.527000+00:00</td>\n",
       "      <td>NaT</td>\n",
       "      <td>\\nCREATE OR REPLACE MODEL `msds-434-robords-oc...</td>\n",
       "      <td>NaN</td>\n",
       "    </tr>\n",
       "  </tbody>\n",
       "</table>\n",
       "</div>"
      ],
      "text/plain": [
       "  job_type    state                       start_time end_time  \\\n",
       "0    QUERY  RUNNING 2022-10-28 21:51:31.527000+00:00      NaT   \n",
       "\n",
       "                                               query  gigabytes_billed  \n",
       "0  \\nCREATE OR REPLACE MODEL `msds-434-robords-oc...               NaN  "
      ]
     },
     "execution_count": 96,
     "metadata": {},
     "output_type": "execute_result"
    }
   ],
   "source": [
    "# Get the current state of the query.  We could write a \"while ..\" job here, but that would mean\n",
    "# we'd be continually querying bq and we might get charged for it. So, run as needed.\n",
    "\n",
    "get_query_status = f\"\"\"\n",
    "SELECT\n",
    "job_type, state, start_time, end_time, query, total_bytes_billed/1000000000 as gigabytes_billed\n",
    "FROM\n",
    "  `region-us`.INFORMATION_SCHEMA.JOBS\n",
    "WHERE\n",
    "  job_id = '{create_model.job_id}'\n",
    "\"\"\"\n",
    "\n",
    "query_state = bq_client.query(get_query_status)\n",
    "query_state.to_dataframe()"
   ]
  },
  {
   "cell_type": "code",
   "execution_count": 69,
   "id": "674f7485",
   "metadata": {},
   "outputs": [
    {
     "ename": "NotFound",
     "evalue": "404 Not found: Dataset msds-434-robords-oct:weather_predictions was not found in location US\n\nLocation: US\nJob ID: 33d2e8f2-0f16-4fa5-959a-e3266b8621e9\n",
     "output_type": "error",
     "traceback": [
      "\u001b[0;31m---------------------------------------------------------------------------\u001b[0m",
      "\u001b[0;31mNotFound\u001b[0m                                  Traceback (most recent call last)",
      "\u001b[0;32m/var/folders/mc/jwjlxbrd1r7cyt0248jmvr_wjk7k6g/T/ipykernel_66265/118893632.py\u001b[0m in \u001b[0;36m<module>\u001b[0;34m\u001b[0m\n\u001b[0;32m----> 1\u001b[0;31m \u001b[0mresults\u001b[0m \u001b[0;34m=\u001b[0m \u001b[0mcreate_model\u001b[0m\u001b[0;34m.\u001b[0m\u001b[0mresult\u001b[0m\u001b[0;34m(\u001b[0m\u001b[0;34m)\u001b[0m\u001b[0;34m\u001b[0m\u001b[0;34m\u001b[0m\u001b[0m\n\u001b[0m\u001b[1;32m      2\u001b[0m \u001b[0mresults\u001b[0m\u001b[0;34m\u001b[0m\u001b[0;34m\u001b[0m\u001b[0m\n",
      "\u001b[0;32m~/.venv/autoML/lib/python3.7/site-packages/google/cloud/bigquery/job/query.py\u001b[0m in \u001b[0;36mresult\u001b[0;34m(self, page_size, max_results, retry, timeout, start_index, job_retry)\u001b[0m\n\u001b[1;32m   1497\u001b[0m                 \u001b[0mdo_get_result\u001b[0m \u001b[0;34m=\u001b[0m \u001b[0mjob_retry\u001b[0m\u001b[0;34m(\u001b[0m\u001b[0mdo_get_result\u001b[0m\u001b[0;34m)\u001b[0m\u001b[0;34m\u001b[0m\u001b[0;34m\u001b[0m\u001b[0m\n\u001b[1;32m   1498\u001b[0m \u001b[0;34m\u001b[0m\u001b[0m\n\u001b[0;32m-> 1499\u001b[0;31m             \u001b[0mdo_get_result\u001b[0m\u001b[0;34m(\u001b[0m\u001b[0;34m)\u001b[0m\u001b[0;34m\u001b[0m\u001b[0;34m\u001b[0m\u001b[0m\n\u001b[0m\u001b[1;32m   1500\u001b[0m \u001b[0;34m\u001b[0m\u001b[0m\n\u001b[1;32m   1501\u001b[0m         \u001b[0;32mexcept\u001b[0m \u001b[0mexceptions\u001b[0m\u001b[0;34m.\u001b[0m\u001b[0mGoogleAPICallError\u001b[0m \u001b[0;32mas\u001b[0m \u001b[0mexc\u001b[0m\u001b[0;34m:\u001b[0m\u001b[0;34m\u001b[0m\u001b[0;34m\u001b[0m\u001b[0m\n",
      "\u001b[0;32m~/.venv/autoML/lib/python3.7/site-packages/google/api_core/retry.py\u001b[0m in \u001b[0;36mretry_wrapped_func\u001b[0;34m(*args, **kwargs)\u001b[0m\n\u001b[1;32m    286\u001b[0m                 \u001b[0msleep_generator\u001b[0m\u001b[0;34m,\u001b[0m\u001b[0;34m\u001b[0m\u001b[0;34m\u001b[0m\u001b[0m\n\u001b[1;32m    287\u001b[0m                 \u001b[0mself\u001b[0m\u001b[0;34m.\u001b[0m\u001b[0m_deadline\u001b[0m\u001b[0;34m,\u001b[0m\u001b[0;34m\u001b[0m\u001b[0;34m\u001b[0m\u001b[0m\n\u001b[0;32m--> 288\u001b[0;31m                 \u001b[0mon_error\u001b[0m\u001b[0;34m=\u001b[0m\u001b[0mon_error\u001b[0m\u001b[0;34m,\u001b[0m\u001b[0;34m\u001b[0m\u001b[0;34m\u001b[0m\u001b[0m\n\u001b[0m\u001b[1;32m    289\u001b[0m             )\n\u001b[1;32m    290\u001b[0m \u001b[0;34m\u001b[0m\u001b[0m\n",
      "\u001b[0;32m~/.venv/autoML/lib/python3.7/site-packages/google/api_core/retry.py\u001b[0m in \u001b[0;36mretry_target\u001b[0;34m(target, predicate, sleep_generator, deadline, on_error)\u001b[0m\n\u001b[1;32m    188\u001b[0m     \u001b[0;32mfor\u001b[0m \u001b[0msleep\u001b[0m \u001b[0;32min\u001b[0m \u001b[0msleep_generator\u001b[0m\u001b[0;34m:\u001b[0m\u001b[0;34m\u001b[0m\u001b[0;34m\u001b[0m\u001b[0m\n\u001b[1;32m    189\u001b[0m         \u001b[0;32mtry\u001b[0m\u001b[0;34m:\u001b[0m\u001b[0;34m\u001b[0m\u001b[0;34m\u001b[0m\u001b[0m\n\u001b[0;32m--> 190\u001b[0;31m             \u001b[0;32mreturn\u001b[0m \u001b[0mtarget\u001b[0m\u001b[0;34m(\u001b[0m\u001b[0;34m)\u001b[0m\u001b[0;34m\u001b[0m\u001b[0;34m\u001b[0m\u001b[0m\n\u001b[0m\u001b[1;32m    191\u001b[0m \u001b[0;34m\u001b[0m\u001b[0m\n\u001b[1;32m    192\u001b[0m         \u001b[0;31m# pylint: disable=broad-except\u001b[0m\u001b[0;34m\u001b[0m\u001b[0;34m\u001b[0m\u001b[0;34m\u001b[0m\u001b[0m\n",
      "\u001b[0;32m~/.venv/autoML/lib/python3.7/site-packages/google/cloud/bigquery/job/query.py\u001b[0m in \u001b[0;36mdo_get_result\u001b[0;34m()\u001b[0m\n\u001b[1;32m   1487\u001b[0m                     \u001b[0mself\u001b[0m\u001b[0;34m.\u001b[0m\u001b[0m_job_retry\u001b[0m \u001b[0;34m=\u001b[0m \u001b[0mjob_retry\u001b[0m\u001b[0;34m\u001b[0m\u001b[0;34m\u001b[0m\u001b[0m\n\u001b[1;32m   1488\u001b[0m \u001b[0;34m\u001b[0m\u001b[0m\n\u001b[0;32m-> 1489\u001b[0;31m                 \u001b[0msuper\u001b[0m\u001b[0;34m(\u001b[0m\u001b[0mQueryJob\u001b[0m\u001b[0;34m,\u001b[0m \u001b[0mself\u001b[0m\u001b[0;34m)\u001b[0m\u001b[0;34m.\u001b[0m\u001b[0mresult\u001b[0m\u001b[0;34m(\u001b[0m\u001b[0mretry\u001b[0m\u001b[0;34m=\u001b[0m\u001b[0mretry\u001b[0m\u001b[0;34m,\u001b[0m \u001b[0mtimeout\u001b[0m\u001b[0;34m=\u001b[0m\u001b[0mtimeout\u001b[0m\u001b[0;34m)\u001b[0m\u001b[0;34m\u001b[0m\u001b[0;34m\u001b[0m\u001b[0m\n\u001b[0m\u001b[1;32m   1490\u001b[0m \u001b[0;34m\u001b[0m\u001b[0m\n\u001b[1;32m   1491\u001b[0m                 \u001b[0;31m# Since the job could already be \"done\" (e.g. got a finished job\u001b[0m\u001b[0;34m\u001b[0m\u001b[0;34m\u001b[0m\u001b[0;34m\u001b[0m\u001b[0m\n",
      "\u001b[0;32m~/.venv/autoML/lib/python3.7/site-packages/google/cloud/bigquery/job/base.py\u001b[0m in \u001b[0;36mresult\u001b[0;34m(self, retry, timeout)\u001b[0m\n\u001b[1;32m    726\u001b[0m \u001b[0;34m\u001b[0m\u001b[0m\n\u001b[1;32m    727\u001b[0m         \u001b[0mkwargs\u001b[0m \u001b[0;34m=\u001b[0m \u001b[0;34m{\u001b[0m\u001b[0;34m}\u001b[0m \u001b[0;32mif\u001b[0m \u001b[0mretry\u001b[0m \u001b[0;32mis\u001b[0m \u001b[0mDEFAULT_RETRY\u001b[0m \u001b[0;32melse\u001b[0m \u001b[0;34m{\u001b[0m\u001b[0;34m\"retry\"\u001b[0m\u001b[0;34m:\u001b[0m \u001b[0mretry\u001b[0m\u001b[0;34m}\u001b[0m\u001b[0;34m\u001b[0m\u001b[0;34m\u001b[0m\u001b[0m\n\u001b[0;32m--> 728\u001b[0;31m         \u001b[0;32mreturn\u001b[0m \u001b[0msuper\u001b[0m\u001b[0;34m(\u001b[0m\u001b[0m_AsyncJob\u001b[0m\u001b[0;34m,\u001b[0m \u001b[0mself\u001b[0m\u001b[0;34m)\u001b[0m\u001b[0;34m.\u001b[0m\u001b[0mresult\u001b[0m\u001b[0;34m(\u001b[0m\u001b[0mtimeout\u001b[0m\u001b[0;34m=\u001b[0m\u001b[0mtimeout\u001b[0m\u001b[0;34m,\u001b[0m \u001b[0;34m**\u001b[0m\u001b[0mkwargs\u001b[0m\u001b[0;34m)\u001b[0m\u001b[0;34m\u001b[0m\u001b[0;34m\u001b[0m\u001b[0m\n\u001b[0m\u001b[1;32m    729\u001b[0m \u001b[0;34m\u001b[0m\u001b[0m\n\u001b[1;32m    730\u001b[0m     \u001b[0;32mdef\u001b[0m \u001b[0mcancelled\u001b[0m\u001b[0;34m(\u001b[0m\u001b[0mself\u001b[0m\u001b[0;34m)\u001b[0m\u001b[0;34m:\u001b[0m\u001b[0;34m\u001b[0m\u001b[0;34m\u001b[0m\u001b[0m\n",
      "\u001b[0;32m~/.venv/autoML/lib/python3.7/site-packages/google/api_core/future/polling.py\u001b[0m in \u001b[0;36mresult\u001b[0;34m(self, timeout, retry)\u001b[0m\n\u001b[1;32m    135\u001b[0m             \u001b[0;31m# pylint: disable=raising-bad-type\u001b[0m\u001b[0;34m\u001b[0m\u001b[0;34m\u001b[0m\u001b[0;34m\u001b[0m\u001b[0m\n\u001b[1;32m    136\u001b[0m             \u001b[0;31m# Pylint doesn't recognize that this is valid in this case.\u001b[0m\u001b[0;34m\u001b[0m\u001b[0;34m\u001b[0m\u001b[0;34m\u001b[0m\u001b[0m\n\u001b[0;32m--> 137\u001b[0;31m             \u001b[0;32mraise\u001b[0m \u001b[0mself\u001b[0m\u001b[0;34m.\u001b[0m\u001b[0m_exception\u001b[0m\u001b[0;34m\u001b[0m\u001b[0;34m\u001b[0m\u001b[0m\n\u001b[0m\u001b[1;32m    138\u001b[0m \u001b[0;34m\u001b[0m\u001b[0m\n\u001b[1;32m    139\u001b[0m         \u001b[0;32mreturn\u001b[0m \u001b[0mself\u001b[0m\u001b[0;34m.\u001b[0m\u001b[0m_result\u001b[0m\u001b[0;34m\u001b[0m\u001b[0;34m\u001b[0m\u001b[0m\n",
      "\u001b[0;31mNotFound\u001b[0m: 404 Not found: Dataset msds-434-robords-oct:weather_predictions was not found in location US\n\nLocation: US\nJob ID: 33d2e8f2-0f16-4fa5-959a-e3266b8621e9\n"
     ]
    }
   ],
   "source": [
    "results = create_model.result()\n",
    "results"
   ]
  },
  {
   "cell_type": "markdown",
   "id": "93d09b8b",
   "metadata": {},
   "source": [
    "## Get Training Info"
   ]
  },
  {
   "cell_type": "code",
   "execution_count": null,
   "id": "1fd58b1f",
   "metadata": {},
   "outputs": [],
   "source": [
    "model_training_info = \"\"\"\n",
    "SELECT\n",
    "  *\n",
    "FROM\n",
    "  ML.TRAINING_INFO(MODEL `msds-434-robords-oct.weather_prediction.automl_weather_classes`)\n",
    "\"\"\"\n",
    "\n",
    "automl_model_training = bq_client.query(model_training_info)\n",
    "train_info = automl_model_training.to_dataframe()"
   ]
  },
  {
   "cell_type": "code",
   "execution_count": null,
   "id": "cfd312ed",
   "metadata": {},
   "outputs": [],
   "source": [
    "train_info"
   ]
  },
  {
   "cell_type": "markdown",
   "id": "be470452",
   "metadata": {},
   "source": [
    "## Make Predictions\n",
    "\n",
    "Pass two, manual predictions to Big Query"
   ]
  },
  {
   "cell_type": "code",
   "execution_count": null,
   "id": "41c0078f",
   "metadata": {},
   "outputs": [],
   "source": [
    "predictions_query = \"\"\"\n",
    "SELECT * FROM ML.PREDICT(MODEL `msds-434-robords-oct.weather_prediction.automl_weather_classes`,(\n",
    "  SELECT \n",
    "  'USW00027502' AS id, \n",
    "  '71.2833' AS latitude,\n",
    "  '-156.7814' AS longitude,\n",
    "  'BARROW POST ROGERS AP' AS name,\n",
    "  'AK' AS state,\n",
    "  '2022-10-21' as date\n",
    "  UNION ALL\n",
    "  SELECT \n",
    "  'USW00027502' AS id, \n",
    "  '71.2833' AS latitude,\n",
    "  '-156.7814' AS longitude,\n",
    "  'BARROW POST ROGERS AP' AS name,\n",
    "  'AK' AS state,\n",
    "  '2022-11-01' as date\n",
    "))\n",
    "\"\"\"\n",
    "\n",
    "automl_model_predictions = bq_client.query(predictions_query)\n",
    "predictions_info = automl_model_predictions.to_dataframe()"
   ]
  },
  {
   "cell_type": "code",
   "execution_count": null,
   "id": "929a92d9",
   "metadata": {},
   "outputs": [],
   "source": [
    "predictions_info"
   ]
  }
 ],
 "metadata": {
  "kernelspec": {
   "display_name": "Python 3 (ipykernel)",
   "language": "python",
   "name": "python3"
  },
  "language_info": {
   "codemirror_mode": {
    "name": "ipython",
    "version": 3
   },
   "file_extension": ".py",
   "mimetype": "text/x-python",
   "name": "python",
   "nbconvert_exporter": "python",
   "pygments_lexer": "ipython3",
   "version": "3.7.9"
  }
 },
 "nbformat": 4,
 "nbformat_minor": 5
}
