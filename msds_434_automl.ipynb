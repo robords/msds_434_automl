{
 "cells": [
  {
   "cell_type": "markdown",
   "id": "cc143f72",
   "metadata": {},
   "source": [
    "### Week 6:\n",
    "\n",
    "Train a multi-class classification model on AutoML.   \n",
    "\n",
    "https://towardsdatascience.com/the-best-of-both-worlds-calling-auto-ml-from-bigquery-9dfd433a45d6    \n",
    "https://cloud.google.com/blog/products/ai-machine-learning/use-automl-tables-from-a-jupyter-notebook \n",
    "\n",
    "\n",
    "Using the NOAA dataset again:\n",
    "\n",
    "* The target column should be the \"element\" column, filtered for the weather types (i.e. WT**)\n",
    "* The feature columns should be id, and date, and the columns from the `bigquery-public-data.ghcn_d.ghcnd_stations` at least\n",
    "\n",
    "For the others,they will need to be investigated to see if they have any relevant features:\n",
    "`bigquery-public-data.ghcn_d.ghcnd_countries`\n",
    "`bigquery-public-data.ghcn_d.ghcnd_inventory`\n",
    "`bigquery-public-data.ghcn_d.ghcnd_states`\n",
    "\n",
    "\n",
    "This time, we are not filtering for just a specific city, i.e. Chicago, because we want to know if there are patterns by location"
   ]
  },
  {
   "cell_type": "code",
   "execution_count": 1,
   "id": "afce01e9",
   "metadata": {},
   "outputs": [],
   "source": [
    "from app_creds import set_env\n",
    "set_env()\n",
    "\n",
    "#from google.cloud import automl\n",
    "from google.cloud import automl_v1beta1\n",
    "\n",
    "from google.cloud import bigquery\n",
    "# Construct a BigQuery client object.\n",
    "bq_client = bigquery.Client()"
   ]
  },
  {
   "cell_type": "markdown",
   "id": "8e4be1e1",
   "metadata": {},
   "source": [
    "## Get the weather-type categorical variables from the weather dataset\n",
    "\n",
    "https://docs.opendata.aws/noaa-ghcn-pds/readme.html\n",
    "\n",
    "__WT** = Weather Type where ** has one of the following values:__    \n",
    "\n",
    "01 = Fog, ice fog, or freezing fog (may include heavy fog)    \n",
    "02 = Heavy fog or heaving freezing fog (not always distinguished from fog)    \n",
    "03 = Thunder    \n",
    "04 = Ice pellets, sleet, snow pellets, or small hail    \n",
    "05 = Hail (may include small hail)    \n",
    "06 = Glaze or rime    \n",
    "07 = Dust, volcanic ash, blowing dust, blowing sand, or blowing obstruction    \n",
    "08 = Smoke or haze    \n",
    "09 = Blowing or drifting snow    \n",
    "10 = Tornado, waterspout, or funnel cloud    \n",
    "11 = High or damaging winds    \n",
    "12 = Blowing spray    \n",
    "13 = Mist    \n",
    "14 = Drizzle    \n",
    "15 = Freezing drizzl    \n",
    "16 = Rain (may include freezing rain, drizzle, and freezing drizzle)    \n",
    "17 = Freezing rain    \n",
    "18 = Snow, snow pellets, snow grains, or ice crystals    \n",
    "19 = Unknown source of precipitation    \n",
    "21 = Ground fog    \n",
    "22 = Ice fog or freezing fog   "
   ]
  },
  {
   "cell_type": "markdown",
   "id": "5671cc70",
   "metadata": {
    "pycharm": {
     "name": "#%% md\n"
    }
   },
   "source": [
    "SELECT recordID, groupID    \n",
    "FROM (    \n",
    "  SELECT     \n",
    "    recordID, groupID,     \n",
    "    RAND() AS rnd, ROW_NUMBER() OVER(PARTITION BY groupID ORDER BY rnd) AS pos    \n",
    "  FROM yourTable    \n",
    ")    \n",
    "WHERE pos <= 100    \n",
    "ORDER BY groupID, recordID    "
   ]
  },
  {
   "cell_type": "code",
   "execution_count": 216,
   "id": "4d6b1807",
   "metadata": {},
   "outputs": [
    {
     "name": "stdout",
     "output_type": "stream",
     "text": [
      "This query will process 784742510 bytes.\n"
     ]
    }
   ],
   "source": [
    "get_data_query = \"\"\"\n",
    "WITH get_counts AS (\n",
    "SELECT\n",
    "  yd.id, COUNT(*) num_rows\n",
    "FROM\n",
    "  `bigquery-public-data.ghcn_d.ghcnd_2022` as yd\n",
    "  JOIN `bigquery-public-data.ghcn_d.ghcnd_stations` sd\n",
    "  ON yd.id = sd.id\n",
    "WHERE yd.qflag IS NULL\n",
    "AND yd.element LIKE 'WT%%'\n",
    "GROUP BY yd.id\n",
    "HAVING num_rows > 50)\n",
    "SELECT\n",
    "  date, element, state\n",
    "FROM\n",
    "(\n",
    "SELECT\n",
    "  yd.date, yd.element, sd.state,\n",
    "  RAND() AS rnd, ROW_NUMBER() OVER(PARTITION BY yd.element) AS pos\n",
    "FROM\n",
    "  `bigquery-public-data.ghcn_d.ghcnd_2022` as yd \n",
    "  JOIN `bigquery-public-data.ghcn_d.ghcnd_stations` sd\n",
    "  ON yd.id = sd.id\n",
    "  -- JOIN get_counts gc ON yd.id = gc.id\n",
    "WHERE yd.qflag IS NULL\n",
    "AND yd.element LIKE 'WT%%'\n",
    "AND yd.element <> 'WT10'\n",
    ")\n",
    "WHERE pos <= 1000\n",
    "--and element <> 'WT07'\n",
    "\"\"\"\n",
    "_2022_query_job = bq_client.query(get_data_query)\n",
    "\n",
    "# A dry run query completes immediately, it should give me an estimate of costs\n",
    "print(\"This query will process {} bytes.\".format(_2022_query_job.total_bytes_processed))\n",
    "\n",
    "weather_and_state_dataframe = _2022_query_job.to_dataframe()"
   ]
  },
  {
   "cell_type": "code",
   "execution_count": 217,
   "id": "084ae0a6",
   "metadata": {},
   "outputs": [
    {
     "data": {
      "text/plain": [
       "26364"
      ]
     },
     "execution_count": 217,
     "metadata": {},
     "output_type": "execute_result"
    }
   ],
   "source": [
    "## size of the sample\n",
    "\n",
    "weather_and_state_dataframe.size"
   ]
  },
  {
   "cell_type": "code",
   "execution_count": 218,
   "id": "dc1d0190",
   "metadata": {},
   "outputs": [
    {
     "name": "stdout",
     "output_type": "stream",
     "text": [
      "['WT11' 'WT05' 'WT08' 'WT06' 'WT04' 'WT09' 'WT02' 'WT01' 'WT03']\n",
      "WT11    1000\n",
      "WT05    1000\n",
      "WT08    1000\n",
      "WT06    1000\n",
      "WT04    1000\n",
      "WT02    1000\n",
      "WT01    1000\n",
      "WT03    1000\n",
      "WT09     788\n",
      "Name: element, dtype: int64\n"
     ]
    }
   ],
   "source": [
    "## Categorical requirements for the label: https://cloud.google.com/automl-tables/docs/prepare\n",
    "# If it is Categorical, it must have at least 2 and no more than 500 distinct values.\n",
    "print(weather_and_state_dataframe['element'].unique())\n",
    "print(weather_and_state_dataframe['element'].value_counts())"
   ]
  },
  {
   "cell_type": "code",
   "execution_count": 220,
   "id": "8d66ffde",
   "metadata": {
    "scrolled": false
   },
   "outputs": [
    {
     "name": "stdout",
     "output_type": "stream",
     "text": [
      "2022-02-03    166\n",
      "2022-02-25    149\n",
      "2022-02-23    143\n",
      "2022-02-04    134\n",
      "2022-02-24    120\n",
      "             ... \n",
      "2022-10-14      1\n",
      "2022-10-21      1\n",
      "2022-10-04      1\n",
      "2022-10-22      1\n",
      "2022-10-11      1\n",
      "Name: date, Length: 296, dtype: int64\n",
      "TX    528\n",
      "PA    457\n",
      "MI    391\n",
      "NY    372\n",
      "KS    356\n",
      "AK    337\n",
      "NE    328\n",
      "MN    319\n",
      "CA    314\n",
      "CO    308\n",
      "IL    286\n",
      "MO    279\n",
      "WI    272\n",
      "VA    267\n",
      "AR    231\n",
      "NC    230\n",
      "OH    228\n",
      "OK    181\n",
      "ME    181\n",
      "IA    178\n",
      "IN    174\n",
      "SD    166\n",
      "ND    161\n",
      "MT    159\n",
      "KY    142\n",
      "MA    131\n",
      "LA    124\n",
      "TN    123\n",
      "WV    122\n",
      "WY    118\n",
      "WA    116\n",
      "UT    102\n",
      "NH    102\n",
      "FL     92\n",
      "AZ     91\n",
      "GA     90\n",
      "SC     87\n",
      "OR     81\n",
      "ID     79\n",
      "VT     75\n",
      "NM     74\n",
      "NJ     72\n",
      "MD     71\n",
      "MS     59\n",
      "AL     58\n",
      "NV     33\n",
      "RI     15\n",
      "CT     10\n",
      "DE      8\n",
      "HI      8\n",
      "PR      2\n",
      "Name: state, dtype: int64\n"
     ]
    }
   ],
   "source": [
    "## Make sure there are at least 3 values for each - this gets split into test, train and validation models\n",
    "\n",
    "for col in weather_and_state_dataframe.columns:\n",
    "    if col != 'element':\n",
    "        print(weather_and_state_dataframe[col].value_counts())"
   ]
  },
  {
   "cell_type": "code",
   "execution_count": 221,
   "id": "159c7863",
   "metadata": {
    "pycharm": {
     "name": "#%%\n"
    }
   },
   "outputs": [],
   "source": [
    "target_column = 'element'"
   ]
  },
  {
   "cell_type": "code",
   "execution_count": 223,
   "id": "266da005",
   "metadata": {
    "pycharm": {
     "name": "#%%\n"
    }
   },
   "outputs": [
    {
     "name": "stdout",
     "output_type": "stream",
     "text": [
      "\n",
      "CREATE OR REPLACE MODEL `msds-434-robords-oct.weather_prediction.automl_weather_classesv2`\n",
      "OPTIONS(MODEL_TYPE = 'automl_classifier', \n",
      "BUDGET_HOURS = 1.0, \n",
      "OPTIMIZATION_OBJECTIVE = 'MINIMIZE_LOG_LOSS',\n",
      "INPUT_LABEL_COLS=['element'])\n",
      "AS \n",
      "\n",
      "WITH get_counts AS (\n",
      "SELECT\n",
      "  yd.id, COUNT(*) num_rows\n",
      "FROM\n",
      "  `bigquery-public-data.ghcn_d.ghcnd_2022` as yd\n",
      "  JOIN `bigquery-public-data.ghcn_d.ghcnd_stations` sd\n",
      "  ON yd.id = sd.id\n",
      "WHERE yd.qflag IS NULL\n",
      "AND yd.element LIKE 'WT%%'\n",
      "GROUP BY yd.id\n",
      "HAVING num_rows > 50)\n",
      "SELECT\n",
      "  date, element, state\n",
      "FROM\n",
      "(\n",
      "SELECT\n",
      "  yd.date, yd.element, sd.state,\n",
      "  RAND() AS rnd, ROW_NUMBER() OVER(PARTITION BY yd.element) AS pos\n",
      "FROM\n",
      "  `bigquery-public-data.ghcn_d.ghcnd_2022` as yd \n",
      "  JOIN `bigquery-public-data.ghcn_d.ghcnd_stations` sd\n",
      "  ON yd.id = sd.id\n",
      "  -- JOIN get_counts gc ON yd.id = gc.id\n",
      "WHERE yd.qflag IS NULL\n",
      "AND yd.element LIKE 'WT%%'\n",
      "AND yd.element <> 'WT10'\n",
      ")\n",
      "WHERE pos <= 1000\n",
      "and element <> 'WT07'\n",
      "\n",
      "\n"
     ]
    }
   ],
   "source": [
    "# https://cloud.google.com/bigquery-ml/docs/reference/standard-sql/bigqueryml-syntax-create-automl\n",
    "\n",
    "create_model_query = f\"\"\"\n",
    "CREATE OR REPLACE MODEL `msds-434-robords-oct.weather_prediction.automl_weather_classesv2`\n",
    "OPTIONS(MODEL_TYPE = 'automl_classifier', \n",
    "BUDGET_HOURS = 1.0, \n",
    "OPTIMIZATION_OBJECTIVE = 'MINIMIZE_LOG_LOSS',\n",
    "INPUT_LABEL_COLS=['{target_column}'])\n",
    "AS \n",
    "{get_data_query}\n",
    "\"\"\"\n",
    "\n",
    "print(create_model_query)"
   ]
  },
  {
   "cell_type": "code",
   "execution_count": 224,
   "id": "31031284",
   "metadata": {
    "pycharm": {
     "name": "#%%\n"
    }
   },
   "outputs": [
    {
     "data": {
      "text/plain": [
       "QueryJob<project=msds-434-robords-oct, location=US, id=0f791e88-bf75-4965-b509-473b88c06ed5>"
      ]
     },
     "execution_count": 224,
     "metadata": {},
     "output_type": "execute_result"
    }
   ],
   "source": [
    "create_model = bq_client.query(create_model_query)\n",
    "create_model"
   ]
  },
  {
   "cell_type": "code",
   "execution_count": 236,
   "id": "6ca71cd0",
   "metadata": {
    "pycharm": {
     "name": "#%%\n"
    }
   },
   "outputs": [
    {
     "data": {
      "text/html": [
       "<div>\n",
       "<style scoped>\n",
       "    .dataframe tbody tr th:only-of-type {\n",
       "        vertical-align: middle;\n",
       "    }\n",
       "\n",
       "    .dataframe tbody tr th {\n",
       "        vertical-align: top;\n",
       "    }\n",
       "\n",
       "    .dataframe thead th {\n",
       "        text-align: right;\n",
       "    }\n",
       "</style>\n",
       "<table border=\"1\" class=\"dataframe\">\n",
       "  <thead>\n",
       "    <tr style=\"text-align: right;\">\n",
       "      <th></th>\n",
       "      <th>job_type</th>\n",
       "      <th>state</th>\n",
       "      <th>start_time</th>\n",
       "      <th>end_time</th>\n",
       "      <th>query</th>\n",
       "      <th>gigabytes_billed</th>\n",
       "      <th>job_id</th>\n",
       "    </tr>\n",
       "  </thead>\n",
       "  <tbody>\n",
       "    <tr>\n",
       "      <th>0</th>\n",
       "      <td>QUERY</td>\n",
       "      <td>DONE</td>\n",
       "      <td>2022-10-29 15:37:27.500000+00:00</td>\n",
       "      <td>2022-10-29 17:01:53.335000+00:00</td>\n",
       "      <td>\\nCREATE OR REPLACE MODEL `msds-434-robords-oc...</td>\n",
       "      <td>4249.343754</td>\n",
       "      <td>0f791e88-bf75-4965-b509-473b88c06ed5</td>\n",
       "    </tr>\n",
       "  </tbody>\n",
       "</table>\n",
       "</div>"
      ],
      "text/plain": [
       "  job_type state                       start_time  \\\n",
       "0    QUERY  DONE 2022-10-29 15:37:27.500000+00:00   \n",
       "\n",
       "                          end_time  \\\n",
       "0 2022-10-29 17:01:53.335000+00:00   \n",
       "\n",
       "                                               query  gigabytes_billed  \\\n",
       "0  \\nCREATE OR REPLACE MODEL `msds-434-robords-oc...       4249.343754   \n",
       "\n",
       "                                 job_id  \n",
       "0  0f791e88-bf75-4965-b509-473b88c06ed5  "
      ]
     },
     "execution_count": 236,
     "metadata": {},
     "output_type": "execute_result"
    }
   ],
   "source": [
    "# Get the current state of the query.  We could write a \"while ..\" job here, but that would mean\n",
    "# we'd be continually querying bq and we might get charged for it. So, run as needed.\n",
    "\n",
    "get_query_status = f\"\"\"\n",
    "SELECT\n",
    "job_type, state, start_time, end_time, query, total_bytes_billed/1000000000 as gigabytes_billed,\n",
    "job_id\n",
    "FROM\n",
    "  `region-us`.INFORMATION_SCHEMA.JOBS\n",
    "WHERE\n",
    "  job_id = '{create_model.job_id}'\n",
    "\"\"\"\n",
    "\n",
    "query_state = bq_client.query(get_query_status)\n",
    "query_state.to_dataframe()"
   ]
  },
  {
   "cell_type": "code",
   "execution_count": 237,
   "id": "325a8d60",
   "metadata": {
    "pycharm": {
     "name": "#%%\n"
    }
   },
   "outputs": [
    {
     "data": {
      "text/plain": [
       "<google.cloud.bigquery.table._EmptyRowIterator at 0x7f93750b8990>"
      ]
     },
     "execution_count": 237,
     "metadata": {},
     "output_type": "execute_result"
    }
   ],
   "source": [
    "results = create_model.result()\n",
    "results"
   ]
  },
  {
   "cell_type": "markdown",
   "id": "bfbc3c9d",
   "metadata": {
    "pycharm": {
     "name": "#%% md\n"
    }
   },
   "source": [
    "## Get Training Info"
   ]
  },
  {
   "cell_type": "code",
   "execution_count": 238,
   "id": "1fd58b1f",
   "metadata": {},
   "outputs": [],
   "source": [
    "model_training_info = \"\"\"\n",
    "SELECT\n",
    "  *\n",
    "FROM\n",
    "  ML.TRAINING_INFO(MODEL `msds-434-robords-oct.weather_prediction.automl_weather_classesv2`)\n",
    "\"\"\"\n",
    "\n",
    "automl_model_training = bq_client.query(model_training_info)\n",
    "train_info = automl_model_training.to_dataframe()"
   ]
  },
  {
   "cell_type": "code",
   "execution_count": 239,
   "id": "07656b91",
   "metadata": {
    "pycharm": {
     "name": "#%%\n"
    }
   },
   "outputs": [
    {
     "data": {
      "text/html": [
       "<div>\n",
       "<style scoped>\n",
       "    .dataframe tbody tr th:only-of-type {\n",
       "        vertical-align: middle;\n",
       "    }\n",
       "\n",
       "    .dataframe tbody tr th {\n",
       "        vertical-align: top;\n",
       "    }\n",
       "\n",
       "    .dataframe thead th {\n",
       "        text-align: right;\n",
       "    }\n",
       "</style>\n",
       "<table border=\"1\" class=\"dataframe\">\n",
       "  <thead>\n",
       "    <tr style=\"text-align: right;\">\n",
       "      <th></th>\n",
       "      <th>training_run</th>\n",
       "      <th>iteration</th>\n",
       "      <th>loss</th>\n",
       "      <th>eval_loss</th>\n",
       "      <th>learning_rate</th>\n",
       "      <th>duration_ms</th>\n",
       "    </tr>\n",
       "  </thead>\n",
       "  <tbody>\n",
       "    <tr>\n",
       "      <th>0</th>\n",
       "      <td>0</td>\n",
       "      <td>0</td>\n",
       "      <td>0.0</td>\n",
       "      <td>1.621536</td>\n",
       "      <td>NaN</td>\n",
       "      <td>4568400</td>\n",
       "    </tr>\n",
       "  </tbody>\n",
       "</table>\n",
       "</div>"
      ],
      "text/plain": [
       "   training_run  iteration  loss  eval_loss  learning_rate  duration_ms\n",
       "0             0          0   0.0   1.621536            NaN      4568400"
      ]
     },
     "execution_count": 239,
     "metadata": {},
     "output_type": "execute_result"
    }
   ],
   "source": [
    "train_info"
   ]
  },
  {
   "cell_type": "markdown",
   "id": "2002efc5",
   "metadata": {},
   "source": [
    "## Make Predictions\n",
    "\n",
    "Pass two, manual predictions to Big Query"
   ]
  },
  {
   "cell_type": "code",
   "execution_count": 240,
   "id": "7fb55e0d",
   "metadata": {},
   "outputs": [],
   "source": [
    "translate_element_dict = {\n",
    "    \"WT01\":\"Fog, ice fog, or freezing fog (may include heavy fog)\",\n",
    "    \"WT02\":\"Heavy fog or heaving freezing fog (not always distinguished from fog)\",\n",
    "    \"WT03\":\"Thunder\",\n",
    "    \"WT04\":\"Ice pellets, sleet, snow pellets, or small hail\",\n",
    "    \"WT05\":\"Hail (may include small hail)\",\n",
    "    \"WT06\":\"Glaze or rime\",\n",
    "    \"WT07\":\"Dust, volcanic ash, blowing dust, blowing sand, or blowing obstruction\",\n",
    "    \"WT08\":\"Smoke or haze\",\n",
    "    \"WT09\":\"Blowing or drifting snow\",\n",
    "    \"WT10\":\"Tornado, waterspout, or funnel cloud\",\n",
    "    \"WT11\": \"High or damaging winds\",\n",
    "    \"WT12\":\"Blowing spray\",\n",
    "    \"WT13\":\"Mist\",\n",
    "    \"WT14\":\"Drizzle\",\n",
    "    \"WT15\":\"Freezing drizzle\",\n",
    "    \"WT16\":\"Rain (may include freezing rain, drizzle, and freezing drizzle)\",\n",
    "    \"WT17\":\"Freezing rain\",\n",
    "    \"WT18\":\"Snow, snow pellets, snow grains, or ice crystals\",\n",
    "    \"WT19\":\"Unknown source of precipitation\",\n",
    "    \"WT21\":\"Ground fog\",\n",
    "    \"WT22\":\"Ice fog or freezing fog\"\n",
    "}"
   ]
  },
  {
   "cell_type": "code",
   "execution_count": null,
   "outputs": [],
   "source": [
    "predictions_query = \"\"\"\n",
    "SELECT * FROM ML.PREDICT(MODEL `msds-434-robords-oct.weather_prediction.automl_weather_classes`,(\n",
    "  SELECT \n",
    "  'AK' AS state,\n",
    "  PARSE_DATE('%Y/%m/%d',  '2022/10/21') as date\n",
    "  UNION ALL\n",
    "  SELECT \n",
    "  'AK' AS state,\n",
    "  PARSE_DATE('%Y/%m/%d',  '2022/11/01') as date\n",
    "))\n",
    "\"\"\"\n",
    "\n",
    "automl_model_predictions = bq_client.query(predictions_query)\n",
    "predictions_info = automl_model_predictions.to_dataframe()"
   ],
   "metadata": {
    "collapsed": false,
    "pycharm": {
     "name": "#%%\n"
    }
   }
  },
  {
   "cell_type": "code",
   "execution_count": null,
   "outputs": [],
   "source": [
    "predictions_info['element_name'] = predictions_info['predicted_element'].map(translate_element_dict) \n",
    "predictions_info"
   ],
   "metadata": {
    "collapsed": false,
    "pycharm": {
     "name": "#%%\n"
    }
   }
  },
  {
   "cell_type": "code",
   "execution_count": null,
   "outputs": [],
   "source": [
    "predictions_query = \"\"\"\n",
    "SELECT * FROM ML.PREDICT(MODEL `msds-434-robords-oct.weather_prediction.automl_weather_classes`,(\n",
    "  SELECT \n",
    "  'VA' AS state,\n",
    "  PARSE_DATE('%Y/%m/%d',  '2022/05/21') as date\n",
    "  UNION ALL\n",
    "  SELECT \n",
    "  'VT' AS state,\n",
    "  PARSE_DATE('%Y/%m/%d',  '2022/05/21') as date\n",
    "))\n",
    "\"\"\"\n",
    "\n",
    "automl_model_predictions = bq_client.query(predictions_query)\n",
    "predictions_info_va_vt = automl_model_predictions.to_dataframe()"
   ],
   "metadata": {
    "collapsed": false,
    "pycharm": {
     "name": "#%%\n"
    }
   }
  },
  {
   "cell_type": "code",
   "execution_count": null,
   "outputs": [],
   "source": [
    "predictions_info_va_vt['element_name'] = predictions_info_va_vt['predicted_element'].map(translate_element_dict) \n",
    "predictions_info_va_vt"
   ],
   "metadata": {
    "collapsed": false,
    "pycharm": {
     "name": "#%%\n"
    }
   }
  },
  {
   "cell_type": "code",
   "execution_count": null,
   "outputs": [],
   "source": [
    "predictions_query = \"\"\"\n",
    "SELECT * FROM ML.PREDICT(MODEL `msds-434-robords-oct.weather_prediction.automl_weather_classesv2`,(\n",
    "  SELECT \n",
    "  'AK' AS state,\n",
    "  PARSE_DATE('%Y/%m/%d',  '2022/10/21') as date\n",
    "  UNION ALL\n",
    "  SELECT \n",
    "  'AK' AS state,\n",
    "  PARSE_DATE('%Y/%m/%d',  '2022/11/01') as date\n",
    "))\n",
    "\"\"\"\n",
    "\n",
    "automl_model_predictions = bq_client.query(predictions_query)\n",
    "predictions_infov2 = automl_model_predictions.to_dataframe()\n",
    "predictions_infov2['element_name'] = predictions_infov2['predicted_element'].map(translate_element_dict) \n",
    "predictions_infov2"
   ],
   "metadata": {
    "collapsed": false,
    "pycharm": {
     "name": "#%%\n"
    }
   }
  },
  {
   "cell_type": "code",
   "execution_count": null,
   "outputs": [],
   "source": [
    "predictions_query = \"\"\"\n",
    "SELECT * FROM ML.PREDICT(MODEL `msds-434-robords-oct.weather_prediction.automl_weather_classesv2`,(\n",
    "  SELECT \n",
    "  'VA' AS state,\n",
    "  PARSE_DATE('%Y/%m/%d',  '2022/05/21') as date\n",
    "  UNION ALL\n",
    "  SELECT \n",
    "  'VT' AS state,\n",
    "  PARSE_DATE('%Y/%m/%d',  '2022/05/21') as date\n",
    "))\n",
    "\"\"\"\n",
    "\n",
    "automl_model_predictions = bq_client.query(predictions_query)\n",
    "predictions_info_va_vtv2 = automl_model_predictions.to_dataframe()\n",
    "predictions_info_va_vtv2['element_name'] = predictions_info_va_vtv2['predicted_element'].map(translate_element_dict) \n",
    "predictions_info_va_vtv2"
   ],
   "metadata": {
    "collapsed": false,
    "pycharm": {
     "name": "#%%\n"
    }
   }
  },
  {
   "cell_type": "code",
   "execution_count": 160,
   "id": "47024ad8",
   "metadata": {},
   "outputs": [],
   "source": []
  },
  {
   "cell_type": "code",
   "execution_count": 167,
   "id": "23a8f622",
   "metadata": {},
   "outputs": [
    {
     "data": {
      "text/html": [
       "<div>\n",
       "<style scoped>\n",
       "    .dataframe tbody tr th:only-of-type {\n",
       "        vertical-align: middle;\n",
       "    }\n",
       "\n",
       "    .dataframe tbody tr th {\n",
       "        vertical-align: top;\n",
       "    }\n",
       "\n",
       "    .dataframe thead th {\n",
       "        text-align: right;\n",
       "    }\n",
       "</style>\n",
       "<table border=\"1\" class=\"dataframe\">\n",
       "  <thead>\n",
       "    <tr style=\"text-align: right;\">\n",
       "      <th></th>\n",
       "      <th>predicted_element</th>\n",
       "      <th>predicted_element_probs</th>\n",
       "      <th>state</th>\n",
       "      <th>date</th>\n",
       "      <th>element_name</th>\n",
       "    </tr>\n",
       "  </thead>\n",
       "  <tbody>\n",
       "    <tr>\n",
       "      <th>0</th>\n",
       "      <td>WT01</td>\n",
       "      <td>[{'label': 'WT01', 'prob': 0.6697785258293152}...</td>\n",
       "      <td>AK</td>\n",
       "      <td>2022-10-21</td>\n",
       "      <td>Fog, ice fog, or freezing fog (may include hea...</td>\n",
       "    </tr>\n",
       "    <tr>\n",
       "      <th>1</th>\n",
       "      <td>WT01</td>\n",
       "      <td>[{'label': 'WT01', 'prob': 0.6858705282211304}...</td>\n",
       "      <td>AK</td>\n",
       "      <td>2022-11-01</td>\n",
       "      <td>Fog, ice fog, or freezing fog (may include hea...</td>\n",
       "    </tr>\n",
       "  </tbody>\n",
       "</table>\n",
       "</div>"
      ],
      "text/plain": [
       "  predicted_element                            predicted_element_probs state  \\\n",
       "0              WT01  [{'label': 'WT01', 'prob': 0.6697785258293152}...    AK   \n",
       "1              WT01  [{'label': 'WT01', 'prob': 0.6858705282211304}...    AK   \n",
       "\n",
       "         date                                       element_name  \n",
       "0  2022-10-21  Fog, ice fog, or freezing fog (may include hea...  \n",
       "1  2022-11-01  Fog, ice fog, or freezing fog (may include hea...  "
      ]
     },
     "execution_count": 167,
     "metadata": {},
     "output_type": "execute_result"
    }
   ],
   "source": [
    "predictions_info['element_name'] = predictions_info['predicted_element'].map(translate_element_dict) \n",
    "predictions_info"
   ]
  },
  {
   "cell_type": "code",
   "execution_count": 169,
   "id": "11221ac1",
   "metadata": {},
   "outputs": [],
   "source": [
    "predictions_query = \"\"\"\n",
    "SELECT * FROM ML.PREDICT(MODEL `msds-434-robords-oct.weather_prediction.automl_weather_classes`,(\n",
    "  SELECT \n",
    "  'VA' AS state,\n",
    "  PARSE_DATE('%Y/%m/%d',  '2022/05/21') as date\n",
    "  UNION ALL\n",
    "  SELECT \n",
    "  'VT' AS state,\n",
    "  PARSE_DATE('%Y/%m/%d',  '2022/05/21') as date\n",
    "))\n",
    "\"\"\"\n",
    "\n",
    "automl_model_predictions = bq_client.query(predictions_query)\n",
    "predictions_info_va_vt = automl_model_predictions.to_dataframe()"
   ]
  },
  {
   "cell_type": "code",
   "execution_count": 170,
   "id": "2b105f15",
   "metadata": {},
   "outputs": [
    {
     "data": {
      "text/html": [
       "<div>\n",
       "<style scoped>\n",
       "    .dataframe tbody tr th:only-of-type {\n",
       "        vertical-align: middle;\n",
       "    }\n",
       "\n",
       "    .dataframe tbody tr th {\n",
       "        vertical-align: top;\n",
       "    }\n",
       "\n",
       "    .dataframe thead th {\n",
       "        text-align: right;\n",
       "    }\n",
       "</style>\n",
       "<table border=\"1\" class=\"dataframe\">\n",
       "  <thead>\n",
       "    <tr style=\"text-align: right;\">\n",
       "      <th></th>\n",
       "      <th>predicted_element</th>\n",
       "      <th>predicted_element_probs</th>\n",
       "      <th>state</th>\n",
       "      <th>date</th>\n",
       "      <th>element_name</th>\n",
       "    </tr>\n",
       "  </thead>\n",
       "  <tbody>\n",
       "    <tr>\n",
       "      <th>0</th>\n",
       "      <td>WT01</td>\n",
       "      <td>[{'label': 'WT01', 'prob': 0.5749873518943787}...</td>\n",
       "      <td>VA</td>\n",
       "      <td>2022-05-21</td>\n",
       "      <td>Fog, ice fog, or freezing fog (may include hea...</td>\n",
       "    </tr>\n",
       "    <tr>\n",
       "      <th>1</th>\n",
       "      <td>WT01</td>\n",
       "      <td>[{'label': 'WT01', 'prob': 0.5905430316925049}...</td>\n",
       "      <td>VT</td>\n",
       "      <td>2022-05-21</td>\n",
       "      <td>Fog, ice fog, or freezing fog (may include hea...</td>\n",
       "    </tr>\n",
       "  </tbody>\n",
       "</table>\n",
       "</div>"
      ],
      "text/plain": [
       "  predicted_element                            predicted_element_probs state  \\\n",
       "0              WT01  [{'label': 'WT01', 'prob': 0.5749873518943787}...    VA   \n",
       "1              WT01  [{'label': 'WT01', 'prob': 0.5905430316925049}...    VT   \n",
       "\n",
       "         date                                       element_name  \n",
       "0  2022-05-21  Fog, ice fog, or freezing fog (may include hea...  \n",
       "1  2022-05-21  Fog, ice fog, or freezing fog (may include hea...  "
      ]
     },
     "execution_count": 170,
     "metadata": {},
     "output_type": "execute_result"
    }
   ],
   "source": [
    "predictions_info_va_vt['element_name'] = predictions_info_va_vt['predicted_element'].map(translate_element_dict) \n",
    "predictions_info_va_vt"
   ]
  },
  {
   "cell_type": "code",
   "execution_count": 241,
   "id": "76c7a3d9",
   "metadata": {},
   "outputs": [
    {
     "data": {
      "text/html": [
       "<div>\n",
       "<style scoped>\n",
       "    .dataframe tbody tr th:only-of-type {\n",
       "        vertical-align: middle;\n",
       "    }\n",
       "\n",
       "    .dataframe tbody tr th {\n",
       "        vertical-align: top;\n",
       "    }\n",
       "\n",
       "    .dataframe thead th {\n",
       "        text-align: right;\n",
       "    }\n",
       "</style>\n",
       "<table border=\"1\" class=\"dataframe\">\n",
       "  <thead>\n",
       "    <tr style=\"text-align: right;\">\n",
       "      <th></th>\n",
       "      <th>predicted_element</th>\n",
       "      <th>predicted_element_probs</th>\n",
       "      <th>state</th>\n",
       "      <th>date</th>\n",
       "      <th>element_name</th>\n",
       "    </tr>\n",
       "  </thead>\n",
       "  <tbody>\n",
       "    <tr>\n",
       "      <th>0</th>\n",
       "      <td>WT02</td>\n",
       "      <td>[{'label': 'WT08', 'prob': 0.07884140312671661...</td>\n",
       "      <td>AK</td>\n",
       "      <td>2022-10-21</td>\n",
       "      <td>Heavy fog or heaving freezing fog (not always ...</td>\n",
       "    </tr>\n",
       "    <tr>\n",
       "      <th>1</th>\n",
       "      <td>WT09</td>\n",
       "      <td>[{'label': 'WT08', 'prob': 0.16644008457660675...</td>\n",
       "      <td>AK</td>\n",
       "      <td>2022-11-01</td>\n",
       "      <td>Blowing or drifting snow</td>\n",
       "    </tr>\n",
       "  </tbody>\n",
       "</table>\n",
       "</div>"
      ],
      "text/plain": [
       "  predicted_element                            predicted_element_probs state  \\\n",
       "0              WT02  [{'label': 'WT08', 'prob': 0.07884140312671661...    AK   \n",
       "1              WT09  [{'label': 'WT08', 'prob': 0.16644008457660675...    AK   \n",
       "\n",
       "         date                                       element_name  \n",
       "0  2022-10-21  Heavy fog or heaving freezing fog (not always ...  \n",
       "1  2022-11-01                           Blowing or drifting snow  "
      ]
     },
     "execution_count": 241,
     "metadata": {},
     "output_type": "execute_result"
    }
   ],
   "source": [
    "predictions_query = \"\"\"\n",
    "SELECT * FROM ML.PREDICT(MODEL `msds-434-robords-oct.weather_prediction.automl_weather_classesv2`,(\n",
    "  SELECT \n",
    "  'AK' AS state,\n",
    "  PARSE_DATE('%Y/%m/%d',  '2022/10/21') as date\n",
    "  UNION ALL\n",
    "  SELECT \n",
    "  'AK' AS state,\n",
    "  PARSE_DATE('%Y/%m/%d',  '2022/11/01') as date\n",
    "))\n",
    "\"\"\"\n",
    "\n",
    "automl_model_predictions = bq_client.query(predictions_query)\n",
    "predictions_infov2 = automl_model_predictions.to_dataframe()\n",
    "predictions_infov2['element_name'] = predictions_infov2['predicted_element'].map(translate_element_dict) \n",
    "predictions_infov2"
   ]
  },
  {
   "cell_type": "code",
   "execution_count": 242,
   "id": "c4e18f64",
   "metadata": {},
   "outputs": [
    {
     "data": {
      "text/html": [
       "<div>\n",
       "<style scoped>\n",
       "    .dataframe tbody tr th:only-of-type {\n",
       "        vertical-align: middle;\n",
       "    }\n",
       "\n",
       "    .dataframe tbody tr th {\n",
       "        vertical-align: top;\n",
       "    }\n",
       "\n",
       "    .dataframe thead th {\n",
       "        text-align: right;\n",
       "    }\n",
       "</style>\n",
       "<table border=\"1\" class=\"dataframe\">\n",
       "  <thead>\n",
       "    <tr style=\"text-align: right;\">\n",
       "      <th></th>\n",
       "      <th>predicted_element</th>\n",
       "      <th>predicted_element_probs</th>\n",
       "      <th>state</th>\n",
       "      <th>date</th>\n",
       "      <th>element_name</th>\n",
       "    </tr>\n",
       "  </thead>\n",
       "  <tbody>\n",
       "    <tr>\n",
       "      <th>0</th>\n",
       "      <td>WT01</td>\n",
       "      <td>[{'label': 'WT08', 'prob': 0.03322505205869675...</td>\n",
       "      <td>VA</td>\n",
       "      <td>2022-05-21</td>\n",
       "      <td>Fog, ice fog, or freezing fog (may include hea...</td>\n",
       "    </tr>\n",
       "    <tr>\n",
       "      <th>1</th>\n",
       "      <td>WT02</td>\n",
       "      <td>[{'label': 'WT08', 'prob': 0.09590507298707962...</td>\n",
       "      <td>VT</td>\n",
       "      <td>2022-05-21</td>\n",
       "      <td>Heavy fog or heaving freezing fog (not always ...</td>\n",
       "    </tr>\n",
       "  </tbody>\n",
       "</table>\n",
       "</div>"
      ],
      "text/plain": [
       "  predicted_element                            predicted_element_probs state  \\\n",
       "0              WT01  [{'label': 'WT08', 'prob': 0.03322505205869675...    VA   \n",
       "1              WT02  [{'label': 'WT08', 'prob': 0.09590507298707962...    VT   \n",
       "\n",
       "         date                                       element_name  \n",
       "0  2022-05-21  Fog, ice fog, or freezing fog (may include hea...  \n",
       "1  2022-05-21  Heavy fog or heaving freezing fog (not always ...  "
      ]
     },
     "execution_count": 242,
     "metadata": {},
     "output_type": "execute_result"
    }
   ],
   "source": [
    "predictions_query = \"\"\"\n",
    "SELECT * FROM ML.PREDICT(MODEL `msds-434-robords-oct.weather_prediction.automl_weather_classesv2`,(\n",
    "  SELECT \n",
    "  'VA' AS state,\n",
    "  PARSE_DATE('%Y/%m/%d',  '2022/05/21') as date\n",
    "  UNION ALL\n",
    "  SELECT \n",
    "  'VT' AS state,\n",
    "  PARSE_DATE('%Y/%m/%d',  '2022/05/21') as date\n",
    "))\n",
    "\"\"\"\n",
    "\n",
    "automl_model_predictions = bq_client.query(predictions_query)\n",
    "predictions_info_va_vtv2 = automl_model_predictions.to_dataframe()\n",
    "predictions_info_va_vtv2['element_name'] = predictions_info_va_vtv2['predicted_element'].map(translate_element_dict) \n",
    "predictions_info_va_vtv2"
   ]
  },
  {
   "cell_type": "code",
   "execution_count": null,
   "id": "375b46a7",
   "metadata": {},
   "outputs": [],
   "source": []
  }
 ],
 "metadata": {
  "kernelspec": {
   "display_name": "Python 3 (ipykernel)",
   "language": "python",
   "name": "python3"
  },
  "language_info": {
   "codemirror_mode": {
    "name": "ipython",
    "version": 3
   },
   "file_extension": ".py",
   "mimetype": "text/x-python",
   "name": "python",
   "nbconvert_exporter": "python",
   "pygments_lexer": "ipython3",
   "version": "3.7.9"
  }
 },
 "nbformat": 4,
 "nbformat_minor": 5
}