{
 "cells": [
  {
   "cell_type": "markdown",
   "id": "cc143f72",
   "metadata": {},
   "source": [
    "### Week 6:\n",
    "\n",
    "Train a multi-class classification model on AutoML.   \n",
    "\n",
    "https://towardsdatascience.com/the-best-of-both-worlds-calling-auto-ml-from-bigquery-9dfd433a45d6    \n",
    "https://cloud.google.com/blog/products/ai-machine-learning/use-automl-tables-from-a-jupyter-notebook \n",
    "\n",
    "\n",
    "Using the NOAA dataset again:\n",
    "\n",
    "* The target column should be the \"element\" column, filtered for the weather types (i.e. WT**)\n",
    "* The feature columns should be id, and date, and the columns from the `bigquery-public-data.ghcn_d.ghcnd_stations` at least\n",
    "\n",
    "For the others,they will need to be investigated to see if they have any relevant features:\n",
    "`bigquery-public-data.ghcn_d.ghcnd_countries`\n",
    "`bigquery-public-data.ghcn_d.ghcnd_inventory`\n",
    "`bigquery-public-data.ghcn_d.ghcnd_states`\n",
    "\n",
    "\n",
    "This time, we are not filtering for just a specific city, i.e. Chicago, because we want to know if there are patterns by location"
   ]
  },
  {
   "cell_type": "code",
   "execution_count": 1,
   "id": "afce01e9",
   "metadata": {},
   "outputs": [],
   "source": [
    "from app_creds import set_env\n",
    "set_env()\n",
    "\n",
    "#from google.cloud import automl\n",
    "from google.cloud import automl_v1beta1\n",
    "\n",
    "from google.cloud import bigquery\n",
    "# Construct a BigQuery client object.\n",
    "bq_client = bigquery.Client()"
   ]
  },
  {
   "cell_type": "markdown",
   "id": "8e4be1e1",
   "metadata": {},
   "source": [
    "## Get the weather-type categorical variables from the weather dataset\n",
    "\n",
    "https://docs.opendata.aws/noaa-ghcn-pds/readme.html\n",
    "\n",
    "__WT** = Weather Type where ** has one of the following values:__    \n",
    "\n",
    "01 = Fog, ice fog, or freezing fog (may include heavy fog)    \n",
    "02 = Heavy fog or heaving freezing fog (not always distinguished from fog)    \n",
    "03 = Thunder    \n",
    "04 = Ice pellets, sleet, snow pellets, or small hail    \n",
    "05 = Hail (may include small hail)    \n",
    "06 = Glaze or rime    \n",
    "07 = Dust, volcanic ash, blowing dust, blowing sand, or blowing obstruction    \n",
    "08 = Smoke or haze    \n",
    "09 = Blowing or drifting snow    \n",
    "10 = Tornado, waterspout, or funnel cloud    \n",
    "11 = High or damaging winds    \n",
    "12 = Blowing spray    \n",
    "13 = Mist    \n",
    "14 = Drizzle    \n",
    "15 = Freezing drizzl    \n",
    "16 = Rain (may include freezing rain, drizzle, and freezing drizzle)    \n",
    "17 = Freezing rain    \n",
    "18 = Snow, snow pellets, snow grains, or ice crystals    \n",
    "19 = Unknown source of precipitation    \n",
    "21 = Ground fog    \n",
    "22 = Ice fog or freezing fog   "
   ]
  },
  {
   "cell_type": "code",
   "execution_count": 137,
   "id": "4183c55d",
   "metadata": {},
   "outputs": [
    {
     "name": "stdout",
     "output_type": "stream",
     "text": [
      "This query will process None bytes.\n"
     ]
    }
   ],
   "source": [
    "get_data_query = \"\"\"\n",
    "WITH get_counts AS (\n",
    "SELECT\n",
    "  yd.id, COUNT(*) num_rows\n",
    "FROM\n",
    "  `bigquery-public-data.ghcn_d.ghcnd_2022` as yd\n",
    "  JOIN `bigquery-public-data.ghcn_d.ghcnd_stations` sd\n",
    "  ON yd.id = sd.id\n",
    "WHERE yd.qflag IS NULL\n",
    "AND yd.element LIKE 'WT%%'\n",
    "GROUP BY yd.id\n",
    "HAVING num_rows > 50)\n",
    "SELECT\n",
    "  yd.date, yd.element, sd.state\n",
    "FROM\n",
    "  `bigquery-public-data.ghcn_d.ghcnd_2022` as yd \n",
    "  JOIN `bigquery-public-data.ghcn_d.ghcnd_stations` sd\n",
    "  ON yd.id = sd.id\n",
    "  JOIN get_counts gc ON yd.id = gc.id\n",
    "WHERE yd.qflag IS NULL\n",
    "AND yd.element LIKE 'WT%%'\n",
    "AND yd.element <> 'WT10'\n",
    "AND RAND() < 5000000/(SELECT COUNT(*) FROM `bigquery-public-data.ghcn_d.ghcnd_2022`)\n",
    "\"\"\"\n",
    "_2022_query_job = bq_client.query(get_data_query)\n",
    "\n",
    "# A dry run query completes immediately, it should give me an estimate of costs\n",
    "print(\"This query will process {} bytes.\".format(_2022_query_job.total_bytes_processed))\n",
    "\n",
    "weather_and_state_dataframe = _2022_query_job.to_dataframe()"
   ]
  },
  {
   "cell_type": "code",
   "execution_count": 138,
   "id": "a744d1d8",
   "metadata": {},
   "outputs": [
    {
     "data": {
      "text/plain": [
       "84189"
      ]
     },
     "execution_count": 138,
     "metadata": {},
     "output_type": "execute_result"
    }
   ],
   "source": [
    "## size of the sample\n",
    "\n",
    "weather_and_state_dataframe.size"
   ]
  },
  {
   "cell_type": "code",
   "execution_count": 139,
   "id": "13fa891b",
   "metadata": {},
   "outputs": [
    {
     "name": "stdout",
     "output_type": "stream",
     "text": [
      "['WT01' 'WT08' 'WT03' 'WT02' 'WT11' 'WT06' 'WT04' 'WT07' 'WT05' 'WT09']\n",
      "WT01    14185\n",
      "WT03     5918\n",
      "WT08     4850\n",
      "WT02     2075\n",
      "WT06      369\n",
      "WT04      231\n",
      "WT11      191\n",
      "WT09      128\n",
      "WT05       95\n",
      "WT07       21\n",
      "Name: element, dtype: int64\n"
     ]
    }
   ],
   "source": [
    "## Categorical requirements for the label: https://cloud.google.com/automl-tables/docs/prepare\n",
    "# If it is Categorical, it must have at least 2 and no more than 500 distinct values.\n",
    "print(weather_and_state_dataframe['element'].unique())\n",
    "print(weather_and_state_dataframe['element'].value_counts())"
   ]
  },
  {
   "cell_type": "code",
   "execution_count": 140,
   "id": "40e42b29",
   "metadata": {
    "scrolled": false
   },
   "outputs": [
    {
     "name": "stdout",
     "output_type": "stream",
     "text": [
      "2022-01-01    201\n",
      "2022-02-24    194\n",
      "2022-02-22    183\n",
      "2022-08-26    175\n",
      "2022-08-22    157\n",
      "             ... \n",
      "2022-04-28     35\n",
      "2022-10-20     30\n",
      "2022-10-23     28\n",
      "2022-10-21     24\n",
      "2022-10-22     19\n",
      "Name: date, Length: 297, dtype: int64\n",
      "CA    1940\n",
      "FL    1777\n",
      "TX    1707\n",
      "PA     922\n",
      "MI     893\n",
      "OH     881\n",
      "AK     867\n",
      "WI     847\n",
      "IL     806\n",
      "VA     782\n",
      "NY     764\n",
      "MO     753\n",
      "NC     744\n",
      "GA     740\n",
      "CO     664\n",
      "LA     655\n",
      "AR     636\n",
      "AL     635\n",
      "WV     621\n",
      "IA     621\n",
      "OR     615\n",
      "WA     583\n",
      "IN     575\n",
      "KY     570\n",
      "NE     552\n",
      "MN     544\n",
      "KS     506\n",
      "MT     474\n",
      "TN     460\n",
      "MS     432\n",
      "ME     393\n",
      "SD     385\n",
      "OK     374\n",
      "SC     371\n",
      "WY     369\n",
      "AZ     318\n",
      "ND     285\n",
      "VT     269\n",
      "NM     252\n",
      "ID     248\n",
      "MA     243\n",
      "NH     216\n",
      "MD     193\n",
      "NJ     137\n",
      "HI     106\n",
      "UT      86\n",
      "NV      73\n",
      "CT      72\n",
      "DE      70\n",
      "RI      37\n",
      "Name: state, dtype: int64\n"
     ]
    }
   ],
   "source": [
    "## Make sure there are at least 3 values for each - this gets split into test, train and validation models\n",
    "\n",
    "for col in weather_and_state_dataframe.columns:\n",
    "    if col != 'element':\n",
    "        print(weather_and_state_dataframe[col].value_counts())"
   ]
  },
  {
   "cell_type": "code",
   "execution_count": 141,
   "id": "159c7863",
   "metadata": {
    "pycharm": {
     "name": "#%%\n"
    }
   },
   "outputs": [],
   "source": [
    "target_column = 'element'"
   ]
  },
  {
   "cell_type": "code",
   "execution_count": 142,
   "id": "266da005",
   "metadata": {
    "pycharm": {
     "name": "#%%\n"
    }
   },
   "outputs": [
    {
     "name": "stdout",
     "output_type": "stream",
     "text": [
      "\n",
      "CREATE OR REPLACE MODEL `msds-434-robords-oct.weather_prediction.automl_weather_classes`\n",
      "OPTIONS(MODEL_TYPE = 'automl_classifier', \n",
      "BUDGET_HOURS = 1.0, \n",
      "OPTIMIZATION_OBJECTIVE = 'MINIMIZE_LOG_LOSS',\n",
      "INPUT_LABEL_COLS=['element'])\n",
      "AS \n",
      "\n",
      "WITH get_counts AS (\n",
      "SELECT\n",
      "  yd.id, COUNT(*) num_rows\n",
      "FROM\n",
      "  `bigquery-public-data.ghcn_d.ghcnd_2022` as yd\n",
      "  JOIN `bigquery-public-data.ghcn_d.ghcnd_stations` sd\n",
      "  ON yd.id = sd.id\n",
      "WHERE yd.qflag IS NULL\n",
      "AND yd.element LIKE 'WT%%'\n",
      "GROUP BY yd.id\n",
      "HAVING num_rows > 50)\n",
      "SELECT\n",
      "  yd.date, yd.element, sd.state\n",
      "FROM\n",
      "  `bigquery-public-data.ghcn_d.ghcnd_2022` as yd \n",
      "  JOIN `bigquery-public-data.ghcn_d.ghcnd_stations` sd\n",
      "  ON yd.id = sd.id\n",
      "  JOIN get_counts gc ON yd.id = gc.id\n",
      "WHERE yd.qflag IS NULL\n",
      "AND yd.element LIKE 'WT%%'\n",
      "AND yd.element <> 'WT10'\n",
      "AND RAND() < 5000000/(SELECT COUNT(*) FROM `bigquery-public-data.ghcn_d.ghcnd_2022`)\n",
      "\n",
      "\n"
     ]
    }
   ],
   "source": [
    "# https://cloud.google.com/bigquery-ml/docs/reference/standard-sql/bigqueryml-syntax-create-automl\n",
    "\n",
    "create_model_query = f\"\"\"\n",
    "CREATE OR REPLACE MODEL `msds-434-robords-oct.weather_prediction.automl_weather_classes`\n",
    "OPTIONS(MODEL_TYPE = 'automl_classifier', \n",
    "BUDGET_HOURS = 1.0, \n",
    "OPTIMIZATION_OBJECTIVE = 'MINIMIZE_LOG_LOSS',\n",
    "INPUT_LABEL_COLS=['{target_column}'])\n",
    "AS \n",
    "{get_data_query}\n",
    "\"\"\"\n",
    "\n",
    "print(create_model_query)"
   ]
  },
  {
   "cell_type": "code",
   "execution_count": 143,
   "id": "31031284",
   "metadata": {
    "pycharm": {
     "name": "#%%\n"
    }
   },
   "outputs": [
    {
     "data": {
      "text/plain": [
       "QueryJob<project=msds-434-robords-oct, location=US, id=0cfd2524-7c26-400a-bbfc-cf477a8acef6>"
      ]
     },
     "execution_count": 143,
     "metadata": {},
     "output_type": "execute_result"
    }
   ],
   "source": [
    "create_model = bq_client.query(create_model_query)\n",
    "create_model"
   ]
  },
  {
   "cell_type": "code",
   "execution_count": 148,
   "id": "8d5a514e",
   "metadata": {},
   "outputs": [
    {
     "data": {
      "text/html": [
       "<div>\n",
       "<style scoped>\n",
       "    .dataframe tbody tr th:only-of-type {\n",
       "        vertical-align: middle;\n",
       "    }\n",
       "\n",
       "    .dataframe tbody tr th {\n",
       "        vertical-align: top;\n",
       "    }\n",
       "\n",
       "    .dataframe thead th {\n",
       "        text-align: right;\n",
       "    }\n",
       "</style>\n",
       "<table border=\"1\" class=\"dataframe\">\n",
       "  <thead>\n",
       "    <tr style=\"text-align: right;\">\n",
       "      <th></th>\n",
       "      <th>job_type</th>\n",
       "      <th>state</th>\n",
       "      <th>start_time</th>\n",
       "      <th>end_time</th>\n",
       "      <th>query</th>\n",
       "      <th>gigabytes_billed</th>\n",
       "      <th>job_id</th>\n",
       "    </tr>\n",
       "  </thead>\n",
       "  <tbody>\n",
       "    <tr>\n",
       "      <th>0</th>\n",
       "      <td>QUERY</td>\n",
       "      <td>RUNNING</td>\n",
       "      <td>2022-10-29 13:47:26.162000+00:00</td>\n",
       "      <td>NaT</td>\n",
       "      <td>\\nCREATE OR REPLACE MODEL `msds-434-robords-oc...</td>\n",
       "      <td>NaN</td>\n",
       "      <td>0cfd2524-7c26-400a-bbfc-cf477a8acef6</td>\n",
       "    </tr>\n",
       "  </tbody>\n",
       "</table>\n",
       "</div>"
      ],
      "text/plain": [
       "  job_type    state                       start_time end_time  \\\n",
       "0    QUERY  RUNNING 2022-10-29 13:47:26.162000+00:00      NaT   \n",
       "\n",
       "                                               query  gigabytes_billed  \\\n",
       "0  \\nCREATE OR REPLACE MODEL `msds-434-robords-oc...               NaN   \n",
       "\n",
       "                                 job_id  \n",
       "0  0cfd2524-7c26-400a-bbfc-cf477a8acef6  "
      ]
     },
     "execution_count": 148,
     "metadata": {},
     "output_type": "execute_result"
    }
   ],
   "source": [
    "# Get the current state of the query.  We could write a \"while ..\" job here, but that would mean\n",
    "# we'd be continually querying bq and we might get charged for it. So, run as needed.\n",
    "\n",
    "get_query_status = f\"\"\"\n",
    "SELECT\n",
    "job_type, state, start_time, end_time, query, total_bytes_billed/1000000000 as gigabytes_billed,\n",
    "job_id\n",
    "FROM\n",
    "  `region-us`.INFORMATION_SCHEMA.JOBS\n",
    "WHERE\n",
    "  job_id = '{create_model.job_id}'\n",
    "\"\"\"\n",
    "\n",
    "query_state = bq_client.query(get_query_status)\n",
    "query_state.to_dataframe()"
   ]
  },
  {
   "cell_type": "code",
   "execution_count": 69,
   "id": "d8de9045",
   "metadata": {},
   "outputs": [
    {
     "ename": "NotFound",
     "evalue": "404 Not found: Dataset msds-434-robords-oct:weather_predictions was not found in location US\n\nLocation: US\nJob ID: 33d2e8f2-0f16-4fa5-959a-e3266b8621e9\n",
     "output_type": "error",
     "traceback": [
      "\u001b[0;31m---------------------------------------------------------------------------\u001b[0m",
      "\u001b[0;31mNotFound\u001b[0m                                  Traceback (most recent call last)",
      "\u001b[0;32m/var/folders/mc/jwjlxbrd1r7cyt0248jmvr_wjk7k6g/T/ipykernel_66265/118893632.py\u001b[0m in \u001b[0;36m<module>\u001b[0;34m\u001b[0m\n\u001b[0;32m----> 1\u001b[0;31m \u001b[0mresults\u001b[0m \u001b[0;34m=\u001b[0m \u001b[0mcreate_model\u001b[0m\u001b[0;34m.\u001b[0m\u001b[0mresult\u001b[0m\u001b[0;34m(\u001b[0m\u001b[0;34m)\u001b[0m\u001b[0;34m\u001b[0m\u001b[0;34m\u001b[0m\u001b[0m\n\u001b[0m\u001b[1;32m      2\u001b[0m \u001b[0mresults\u001b[0m\u001b[0;34m\u001b[0m\u001b[0;34m\u001b[0m\u001b[0m\n",
      "\u001b[0;32m~/.venv/autoML/lib/python3.7/site-packages/google/cloud/bigquery/job/query.py\u001b[0m in \u001b[0;36mresult\u001b[0;34m(self, page_size, max_results, retry, timeout, start_index, job_retry)\u001b[0m\n\u001b[1;32m   1497\u001b[0m                 \u001b[0mdo_get_result\u001b[0m \u001b[0;34m=\u001b[0m \u001b[0mjob_retry\u001b[0m\u001b[0;34m(\u001b[0m\u001b[0mdo_get_result\u001b[0m\u001b[0;34m)\u001b[0m\u001b[0;34m\u001b[0m\u001b[0;34m\u001b[0m\u001b[0m\n\u001b[1;32m   1498\u001b[0m \u001b[0;34m\u001b[0m\u001b[0m\n\u001b[0;32m-> 1499\u001b[0;31m             \u001b[0mdo_get_result\u001b[0m\u001b[0;34m(\u001b[0m\u001b[0;34m)\u001b[0m\u001b[0;34m\u001b[0m\u001b[0;34m\u001b[0m\u001b[0m\n\u001b[0m\u001b[1;32m   1500\u001b[0m \u001b[0;34m\u001b[0m\u001b[0m\n\u001b[1;32m   1501\u001b[0m         \u001b[0;32mexcept\u001b[0m \u001b[0mexceptions\u001b[0m\u001b[0;34m.\u001b[0m\u001b[0mGoogleAPICallError\u001b[0m \u001b[0;32mas\u001b[0m \u001b[0mexc\u001b[0m\u001b[0;34m:\u001b[0m\u001b[0;34m\u001b[0m\u001b[0;34m\u001b[0m\u001b[0m\n",
      "\u001b[0;32m~/.venv/autoML/lib/python3.7/site-packages/google/api_core/retry.py\u001b[0m in \u001b[0;36mretry_wrapped_func\u001b[0;34m(*args, **kwargs)\u001b[0m\n\u001b[1;32m    286\u001b[0m                 \u001b[0msleep_generator\u001b[0m\u001b[0;34m,\u001b[0m\u001b[0;34m\u001b[0m\u001b[0;34m\u001b[0m\u001b[0m\n\u001b[1;32m    287\u001b[0m                 \u001b[0mself\u001b[0m\u001b[0;34m.\u001b[0m\u001b[0m_deadline\u001b[0m\u001b[0;34m,\u001b[0m\u001b[0;34m\u001b[0m\u001b[0;34m\u001b[0m\u001b[0m\n\u001b[0;32m--> 288\u001b[0;31m                 \u001b[0mon_error\u001b[0m\u001b[0;34m=\u001b[0m\u001b[0mon_error\u001b[0m\u001b[0;34m,\u001b[0m\u001b[0;34m\u001b[0m\u001b[0;34m\u001b[0m\u001b[0m\n\u001b[0m\u001b[1;32m    289\u001b[0m             )\n\u001b[1;32m    290\u001b[0m \u001b[0;34m\u001b[0m\u001b[0m\n",
      "\u001b[0;32m~/.venv/autoML/lib/python3.7/site-packages/google/api_core/retry.py\u001b[0m in \u001b[0;36mretry_target\u001b[0;34m(target, predicate, sleep_generator, deadline, on_error)\u001b[0m\n\u001b[1;32m    188\u001b[0m     \u001b[0;32mfor\u001b[0m \u001b[0msleep\u001b[0m \u001b[0;32min\u001b[0m \u001b[0msleep_generator\u001b[0m\u001b[0;34m:\u001b[0m\u001b[0;34m\u001b[0m\u001b[0;34m\u001b[0m\u001b[0m\n\u001b[1;32m    189\u001b[0m         \u001b[0;32mtry\u001b[0m\u001b[0;34m:\u001b[0m\u001b[0;34m\u001b[0m\u001b[0;34m\u001b[0m\u001b[0m\n\u001b[0;32m--> 190\u001b[0;31m             \u001b[0;32mreturn\u001b[0m \u001b[0mtarget\u001b[0m\u001b[0;34m(\u001b[0m\u001b[0;34m)\u001b[0m\u001b[0;34m\u001b[0m\u001b[0;34m\u001b[0m\u001b[0m\n\u001b[0m\u001b[1;32m    191\u001b[0m \u001b[0;34m\u001b[0m\u001b[0m\n\u001b[1;32m    192\u001b[0m         \u001b[0;31m# pylint: disable=broad-except\u001b[0m\u001b[0;34m\u001b[0m\u001b[0;34m\u001b[0m\u001b[0;34m\u001b[0m\u001b[0m\n",
      "\u001b[0;32m~/.venv/autoML/lib/python3.7/site-packages/google/cloud/bigquery/job/query.py\u001b[0m in \u001b[0;36mdo_get_result\u001b[0;34m()\u001b[0m\n\u001b[1;32m   1487\u001b[0m                     \u001b[0mself\u001b[0m\u001b[0;34m.\u001b[0m\u001b[0m_job_retry\u001b[0m \u001b[0;34m=\u001b[0m \u001b[0mjob_retry\u001b[0m\u001b[0;34m\u001b[0m\u001b[0;34m\u001b[0m\u001b[0m\n\u001b[1;32m   1488\u001b[0m \u001b[0;34m\u001b[0m\u001b[0m\n\u001b[0;32m-> 1489\u001b[0;31m                 \u001b[0msuper\u001b[0m\u001b[0;34m(\u001b[0m\u001b[0mQueryJob\u001b[0m\u001b[0;34m,\u001b[0m \u001b[0mself\u001b[0m\u001b[0;34m)\u001b[0m\u001b[0;34m.\u001b[0m\u001b[0mresult\u001b[0m\u001b[0;34m(\u001b[0m\u001b[0mretry\u001b[0m\u001b[0;34m=\u001b[0m\u001b[0mretry\u001b[0m\u001b[0;34m,\u001b[0m \u001b[0mtimeout\u001b[0m\u001b[0;34m=\u001b[0m\u001b[0mtimeout\u001b[0m\u001b[0;34m)\u001b[0m\u001b[0;34m\u001b[0m\u001b[0;34m\u001b[0m\u001b[0m\n\u001b[0m\u001b[1;32m   1490\u001b[0m \u001b[0;34m\u001b[0m\u001b[0m\n\u001b[1;32m   1491\u001b[0m                 \u001b[0;31m# Since the job could already be \"done\" (e.g. got a finished job\u001b[0m\u001b[0;34m\u001b[0m\u001b[0;34m\u001b[0m\u001b[0;34m\u001b[0m\u001b[0m\n",
      "\u001b[0;32m~/.venv/autoML/lib/python3.7/site-packages/google/cloud/bigquery/job/base.py\u001b[0m in \u001b[0;36mresult\u001b[0;34m(self, retry, timeout)\u001b[0m\n\u001b[1;32m    726\u001b[0m \u001b[0;34m\u001b[0m\u001b[0m\n\u001b[1;32m    727\u001b[0m         \u001b[0mkwargs\u001b[0m \u001b[0;34m=\u001b[0m \u001b[0;34m{\u001b[0m\u001b[0;34m}\u001b[0m \u001b[0;32mif\u001b[0m \u001b[0mretry\u001b[0m \u001b[0;32mis\u001b[0m \u001b[0mDEFAULT_RETRY\u001b[0m \u001b[0;32melse\u001b[0m \u001b[0;34m{\u001b[0m\u001b[0;34m\"retry\"\u001b[0m\u001b[0;34m:\u001b[0m \u001b[0mretry\u001b[0m\u001b[0;34m}\u001b[0m\u001b[0;34m\u001b[0m\u001b[0;34m\u001b[0m\u001b[0m\n\u001b[0;32m--> 728\u001b[0;31m         \u001b[0;32mreturn\u001b[0m \u001b[0msuper\u001b[0m\u001b[0;34m(\u001b[0m\u001b[0m_AsyncJob\u001b[0m\u001b[0;34m,\u001b[0m \u001b[0mself\u001b[0m\u001b[0;34m)\u001b[0m\u001b[0;34m.\u001b[0m\u001b[0mresult\u001b[0m\u001b[0;34m(\u001b[0m\u001b[0mtimeout\u001b[0m\u001b[0;34m=\u001b[0m\u001b[0mtimeout\u001b[0m\u001b[0;34m,\u001b[0m \u001b[0;34m**\u001b[0m\u001b[0mkwargs\u001b[0m\u001b[0;34m)\u001b[0m\u001b[0;34m\u001b[0m\u001b[0;34m\u001b[0m\u001b[0m\n\u001b[0m\u001b[1;32m    729\u001b[0m \u001b[0;34m\u001b[0m\u001b[0m\n\u001b[1;32m    730\u001b[0m     \u001b[0;32mdef\u001b[0m \u001b[0mcancelled\u001b[0m\u001b[0;34m(\u001b[0m\u001b[0mself\u001b[0m\u001b[0;34m)\u001b[0m\u001b[0;34m:\u001b[0m\u001b[0;34m\u001b[0m\u001b[0;34m\u001b[0m\u001b[0m\n",
      "\u001b[0;32m~/.venv/autoML/lib/python3.7/site-packages/google/api_core/future/polling.py\u001b[0m in \u001b[0;36mresult\u001b[0;34m(self, timeout, retry)\u001b[0m\n\u001b[1;32m    135\u001b[0m             \u001b[0;31m# pylint: disable=raising-bad-type\u001b[0m\u001b[0;34m\u001b[0m\u001b[0;34m\u001b[0m\u001b[0;34m\u001b[0m\u001b[0m\n\u001b[1;32m    136\u001b[0m             \u001b[0;31m# Pylint doesn't recognize that this is valid in this case.\u001b[0m\u001b[0;34m\u001b[0m\u001b[0;34m\u001b[0m\u001b[0;34m\u001b[0m\u001b[0m\n\u001b[0;32m--> 137\u001b[0;31m             \u001b[0;32mraise\u001b[0m \u001b[0mself\u001b[0m\u001b[0;34m.\u001b[0m\u001b[0m_exception\u001b[0m\u001b[0;34m\u001b[0m\u001b[0;34m\u001b[0m\u001b[0m\n\u001b[0m\u001b[1;32m    138\u001b[0m \u001b[0;34m\u001b[0m\u001b[0m\n\u001b[1;32m    139\u001b[0m         \u001b[0;32mreturn\u001b[0m \u001b[0mself\u001b[0m\u001b[0;34m.\u001b[0m\u001b[0m_result\u001b[0m\u001b[0;34m\u001b[0m\u001b[0;34m\u001b[0m\u001b[0m\n",
      "\u001b[0;31mNotFound\u001b[0m: 404 Not found: Dataset msds-434-robords-oct:weather_predictions was not found in location US\n\nLocation: US\nJob ID: 33d2e8f2-0f16-4fa5-959a-e3266b8621e9\n"
     ]
    }
   ],
   "source": [
    "results = create_model.result()\n",
    "results"
   ]
  },
  {
   "cell_type": "markdown",
   "id": "9fc22ce1",
   "metadata": {},
   "source": [
    "## Get Training Info"
   ]
  },
  {
   "cell_type": "code",
   "execution_count": null,
   "id": "1fd58b1f",
   "metadata": {},
   "outputs": [],
   "source": [
    "model_training_info = \"\"\"\n",
    "SELECT\n",
    "  *\n",
    "FROM\n",
    "  ML.TRAINING_INFO(MODEL `msds-434-robords-oct.weather_prediction.automl_weather_classes`)\n",
    "\"\"\"\n",
    "\n",
    "automl_model_training = bq_client.query(model_training_info)\n",
    "train_info = automl_model_training.to_dataframe()"
   ]
  },
  {
   "cell_type": "code",
   "execution_count": null,
   "id": "2e8fcc7c",
   "metadata": {},
   "outputs": [],
   "source": [
    "train_info"
   ]
  },
  {
   "cell_type": "markdown",
   "id": "2eee43f3",
   "metadata": {},
   "source": [
    "## Make Predictions\n",
    "\n",
    "Pass two, manual predictions to Big Query"
   ]
  },
  {
   "cell_type": "code",
   "execution_count": null,
   "id": "244d2728",
   "metadata": {},
   "outputs": [],
   "source": [
    "predictions_query = \"\"\"\n",
    "SELECT * FROM ML.PREDICT(MODEL `msds-434-robords-oct.weather_prediction.automl_weather_classes`,(\n",
    "  SELECT \n",
    "  'USW00027502' AS id, \n",
    "  '71.2833' AS latitude,\n",
    "  '-156.7814' AS longitude,\n",
    "  'BARROW POST ROGERS AP' AS name,\n",
    "  'AK' AS state,\n",
    "  '2022-10-21' as date\n",
    "  UNION ALL\n",
    "  SELECT \n",
    "  'USW00027502' AS id, \n",
    "  '71.2833' AS latitude,\n",
    "  '-156.7814' AS longitude,\n",
    "  'BARROW POST ROGERS AP' AS name,\n",
    "  'AK' AS state,\n",
    "  '2022-11-01' as date\n",
    "))\n",
    "\"\"\"\n",
    "\n",
    "automl_model_predictions = bq_client.query(predictions_query)\n",
    "predictions_info = automl_model_predictions.to_dataframe()"
   ]
  },
  {
   "cell_type": "code",
   "execution_count": null,
   "id": "f490049a",
   "metadata": {},
   "outputs": [],
   "source": [
    "predictions_info"
   ]
  }
 ],
 "metadata": {
  "kernelspec": {
   "display_name": "Python 3 (ipykernel)",
   "language": "python",
   "name": "python3"
  },
  "language_info": {
   "codemirror_mode": {
    "name": "ipython",
    "version": 3
   },
   "file_extension": ".py",
   "mimetype": "text/x-python",
   "name": "python",
   "nbconvert_exporter": "python",
   "pygments_lexer": "ipython3",
   "version": "3.7.9"
  }
 },
 "nbformat": 4,
 "nbformat_minor": 5
}
