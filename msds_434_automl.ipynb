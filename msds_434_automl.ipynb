{
 "cells": [
  {
   "cell_type": "markdown",
   "id": "75883b3b",
   "metadata": {},
   "source": [
    "### Week 6:\n",
    "\n",
    "Train a multi-class classification model on AutoML.    \n",
    "\n",
    "https://cloud.google.com/blog/products/ai-machine-learning/use-automl-tables-from-a-jupyter-notebook "
   ]
  },
  {
   "cell_type": "code",
   "execution_count": 4,
   "id": "2395434f",
   "metadata": {},
   "outputs": [],
   "source": [
    "#from google.cloud import automl\n",
    "from google.cloud import automl_v1beta1"
   ]
  },
  {
   "cell_type": "code",
   "execution_count": 6,
   "id": "3b505fa7",
   "metadata": {},
   "outputs": [
    {
     "name": "stderr",
     "output_type": "stream",
     "text": [
      "/Users/robords/.venv/autoML/lib/python3.7/site-packages/google/auth/_default.py:83: UserWarning: Your application has authenticated using end user credentials from Google Cloud SDK without a quota project. You might receive a \"quota exceeded\" or \"API not enabled\" error. We recommend you rerun `gcloud auth application-default login` and make sure a quota project is added. Or you can use service accounts instead. For more information about service accounts, see https://cloud.google.com/docs/authentication/\n",
      "  warnings.warn(_CLOUD_SDK_CREDENTIALS_WARNING)\n",
      "/Users/robords/.venv/autoML/lib/python3.7/site-packages/google/auth/_default.py:83: UserWarning: Your application has authenticated using end user credentials from Google Cloud SDK without a quota project. You might receive a \"quota exceeded\" or \"API not enabled\" error. We recommend you rerun `gcloud auth application-default login` and make sure a quota project is added. Or you can use service accounts instead. For more information about service accounts, see https://cloud.google.com/docs/authentication/\n",
      "  warnings.warn(_CLOUD_SDK_CREDENTIALS_WARNING)\n"
     ]
    }
   ],
   "source": [
    "client = automl_v1beta1.TablesClient(project='msds-434-robords-oct')"
   ]
  },
  {
   "cell_type": "code",
   "execution_count": null,
   "id": "3dbcce54",
   "metadata": {},
   "outputs": [],
   "source": []
  }
 ],
 "metadata": {
  "kernelspec": {
   "display_name": "Python 3 (ipykernel)",
   "language": "python",
   "name": "python3"
  },
  "language_info": {
   "codemirror_mode": {
    "name": "ipython",
    "version": 3
   },
   "file_extension": ".py",
   "mimetype": "text/x-python",
   "name": "python",
   "nbconvert_exporter": "python",
   "pygments_lexer": "ipython3",
   "version": "3.7.9"
  }
 },
 "nbformat": 4,
 "nbformat_minor": 5
}
