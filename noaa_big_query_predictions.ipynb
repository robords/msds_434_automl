{
 "cells": [
  {
   "cell_type": "code",
   "execution_count": null,
   "id": "c24ae0b6",
   "metadata": {},
   "outputs": [],
   "source": [
    "import pandas as pd\n",
    "import plotly.express as px\n",
    "import plotly.graph_objects as go"
   ]
  },
  {
   "cell_type": "code",
   "execution_count": null,
   "id": "42628c3b",
   "metadata": {},
   "outputs": [],
   "source": [
    "from google.cloud import bigquery\n",
    "# Construct a BigQuery client object.\n",
    "client = bigquery.Client()"
   ]
  },
  {
   "cell_type": "markdown",
   "id": "5cfef200",
   "metadata": {},
   "source": [
    "### Get the list of tables in the dataset"
   ]
  },
  {
   "cell_type": "code",
   "execution_count": null,
   "id": "5427dede",
   "metadata": {},
   "outputs": [],
   "source": [
    "dataset_id = 'bigquery-public-data.ghcn_d'\n",
    "tables = client.list_tables(dataset_id)  # Make an API request.\n",
    "\n",
    "tables_in_noaa_dataset = []\n",
    "for table in tables:\n",
    "    tables_in_noaa_dataset.append(\"{}.{}.{}\".format(table.project, table.dataset_id, table.table_id))"
   ]
  },
  {
   "cell_type": "code",
   "execution_count": null,
   "id": "176e2b59",
   "metadata": {},
   "outputs": [],
   "source": [
    "## We have data from 1763 to 2022\n",
    "print(\"\\n\".join(tables_in_noaa_dataset[0:7]))\n",
    "print('...')\n",
    "print(\"\\n\".join(tables_in_noaa_dataset[(len(tables_in_noaa_dataset)-7):(len(tables_in_noaa_dataset))]))"
   ]
  },
  {
   "cell_type": "markdown",
   "id": "62f7e7d0",
   "metadata": {},
   "source": [
    "### Sample a table\n",
    "\n",
    "Include where qflag (quality flag) is null."
   ]
  },
  {
   "cell_type": "code",
   "execution_count": null,
   "id": "c03e2420",
   "metadata": {},
   "outputs": [],
   "source": [
    "_2021_data = \"\"\"\n",
    "SELECT\n",
    "  *\n",
    "FROM\n",
    "  `bigquery-public-data.ghcn_d.ghcnd_2021`\n",
    "WHERE qflag IS NULL\n",
    "LIMIT 10\n",
    "\"\"\"\n",
    "_2021_data_query_job = client.query(_2021_data)  # Make an API request.\n",
    "\n",
    "_2021_data_query_job.to_dataframe()"
   ]
  },
  {
   "cell_type": "markdown",
   "id": "129f846b",
   "metadata": {},
   "source": [
    "## Find the stations within lat/long bounds\n",
    "\n",
    "There are two ways to find this:\n",
    "Manually establish bounds, i.e. by looking on Google Maps, for example:\n",
    "\n",
    "burlington: 44.47   73.15 (per https://www.w3.org/2003/01/geo/test/ustowns/latlong.htm)\n",
    "```\n",
    "  latitude > 44.3\n",
    "  AND latitude < 44.7\n",
    "  AND longitude > -73.4\n",
    "  AND longitude < -72.9\n",
    "```\n",
    "chicago:\n",
    "```\n",
    "  latitude > 41.7\n",
    "  AND latitude < 42\n",
    "  AND longitude > -87.7\n",
    "  AND longitude < -87.5\n",
    "```\n",
    "\n",
    "Or use the legacy syntax to find those closest to central coordinates as described here: https://github.com/GoogleCloudPlatform/training-data-analyst/blob/master/blogs/ghcn/ghcn_on_bq.ipynb"
   ]
  },
  {
   "cell_type": "code",
   "execution_count": null,
   "id": "6735b649",
   "metadata": {},
   "outputs": [],
   "source": [
    "burlington_query = \"\"\"\n",
    "SELECT\n",
    "  id,\n",
    "  name,\n",
    "  state,\n",
    "  latitude,\n",
    "  longitude\n",
    "FROM\n",
    "  `bigquery-public-data.ghcn_d.ghcnd_stations`\n",
    "WHERE\n",
    "  latitude > 44.3\n",
    "  AND latitude < 44.7\n",
    "  AND longitude > -73.4\n",
    "  AND longitude < -72.9\n",
    "\"\"\"\n",
    "burlington_query_job = client.query(burlington_query)  # Make an API request.\n",
    "\n",
    "burlington_stations = burlington_query_job.to_dataframe()"
   ]
  },
  {
   "cell_type": "code",
   "execution_count": null,
   "id": "b15d41b2",
   "metadata": {},
   "outputs": [],
   "source": [
    "lat=44.47\n",
    "lon=-73.15\n",
    "\n",
    "close_to_query = f\"\"\"\n",
    "SELECT\n",
    "  name, id,\n",
    "  state,\n",
    "  latitude,\n",
    "  longitude,\n",
    "  DEGREES(ACOS(SIN(RADIANS(latitude)) * SIN(RADIANS({lat})) + COS(RADIANS(latitude)) * COS(RADIANS({lat})) * COS(RADIANS(longitude - {lon})))) * 60 * 1.515 * 1.609344 AS dist_kms\n",
    "FROM\n",
    "  [bigquery-public-data:ghcn_d.ghcnd_stations]\n",
    "ORDER BY\n",
    "  dist_kms ASC\n",
    "LIMIT\n",
    "  1000\"\"\"\n"
   ]
  },
  {
   "cell_type": "code",
   "execution_count": null,
   "id": "6a66cb7e",
   "metadata": {},
   "outputs": [],
   "source": [
    "# Set use_legacy_sql to True to use legacy SQL syntax (this is necessary to use the DEGREES function)\n",
    "job_config = bigquery.QueryJobConfig(use_legacy_sql=True)\n",
    "\n",
    "burlington_query_close_to = client.query(close_to_query, job_config=job_config)  # Make an API request.\n",
    "\n",
    "burlington_stations_close_to = burlington_query_close_to.to_dataframe()"
   ]
  },
  {
   "cell_type": "code",
   "execution_count": null,
   "id": "e4c41b1b",
   "metadata": {},
   "outputs": [],
   "source": [
    "## list those stations within 30 kms\n",
    "burlington_stations_close_to[burlington_stations_close_to.dist_kms <= 30]"
   ]
  },
  {
   "cell_type": "markdown",
   "id": "3ab9fd52",
   "metadata": {},
   "source": [
    "## Sample recent weather data from the stations near Burlington, VT"
   ]
  },
  {
   "cell_type": "code",
   "execution_count": null,
   "id": "9bd61d36",
   "metadata": {},
   "outputs": [],
   "source": [
    "## Build query\n",
    "stations_within_30_kms = list(burlington_stations_close_to[burlington_stations_close_to.dist_kms <= 30]['id'])\n",
    "\n",
    "burlington_2022_sample = \"\"\"\n",
    "SELECT\n",
    "  *\n",
    "FROM\n",
    "  `bigquery-public-data.ghcn_d.ghcnd_2022`\n",
    "WHERE qflag IS NULL\n",
    "AND id IN ('{}')\n",
    "LIMIT 10\n",
    "\"\"\".format('\\', \\''.join(stations_within_30_kms))"
   ]
  },
  {
   "cell_type": "code",
   "execution_count": null,
   "id": "3c44d4a5",
   "metadata": {},
   "outputs": [],
   "source": [
    "burlington_2022_sample"
   ]
  },
  {
   "cell_type": "code",
   "execution_count": null,
   "id": "427c95db",
   "metadata": {},
   "outputs": [],
   "source": [
    "burlington_2022_sample = client.query(burlington_2022_sample)  # Make an API request.\n",
    "\n",
    "burlington_2022_sample_df = burlington_2022_sample.to_dataframe()"
   ]
  },
  {
   "cell_type": "code",
   "execution_count": null,
   "id": "3bed84db",
   "metadata": {},
   "outputs": [],
   "source": [
    "burlington_2022_sample_df"
   ]
  },
  {
   "cell_type": "code",
   "execution_count": null,
   "id": "d3031458",
   "metadata": {},
   "outputs": [],
   "source": [
    "burlington_2021_time_series = \"\"\"SELECT\n",
    "*\n",
    "FROM\n",
    "  `bigquery-public-data.ghcn_d.ghcnd_2021`\n",
    "WHERE qflag IS NULL\n",
    "AND id IN ('{}')\n",
    "\"\"\".format('\\', \\''.join(stations_within_30_kms))\n",
    "\n",
    "burlington_2021_data = client.query(burlington_2021_time_series)\n",
    "\n",
    "burlington_2021_data_time_series = burlington_2021_data.to_dataframe()"
   ]
  },
  {
   "cell_type": "code",
   "execution_count": null,
   "id": "677f14ae",
   "metadata": {},
   "outputs": [],
   "source": [
    "burlington_2021_data_time_series['element'] == 'SNOW'"
   ]
  },
  {
   "cell_type": "code",
   "execution_count": null,
   "id": "f2f7890d",
   "metadata": {},
   "outputs": [],
   "source": [
    "## Visualize\n",
    "burlington_2021_data_time_series['date'] = pd.to_datetime(burlington_2021_data_time_series['date'])\n",
    "\n",
    "burlington_snow_2021 = burlington_2021_data_time_series[burlington_2021_data_time_series['element'] == 'SNOW']\n",
    "\n",
    "fig = px.scatter(burlington_snow_2021,x=\"date\", y=\"value\", color=\"id\", title='Burlington VT Snow')\n",
    "fig.show()"
   ]
  },
  {
   "cell_type": "code",
   "execution_count": null,
   "id": "d213dad6",
   "metadata": {},
   "outputs": [],
   "source": [
    "fig = px.scatter(burlington_snow_2021.groupby(['date']).median().reset_index(),\n",
    "                 x=\"date\", y=\"value\", title='Burlington VT Median Snow')\n",
    "fig.show()"
   ]
  },
  {
   "cell_type": "markdown",
   "id": "5b566035",
   "metadata": {},
   "source": [
    "# Create a model\n",
    "\n",
    "https://cloud.google.com/bigquery-ml/docs/reference/standard-sql/bigqueryml-syntax-create-glm\n",
    "\n",
    "https://cloud.google.com/bigquery-ml/docs/arima-multiple-time-series-forecasting-tutorial\n",
    "\n",
    "Example Time Series (ARIMA):\n",
    "```\n",
    "CREATE MODEL `project_id.mydataset.mymodel`\n",
    " OPTIONS(MODEL_TYPE='ARIMA_PLUS',\n",
    "         time_series_timestamp_col='date',\n",
    "         time_series_data_col='transaction') AS\n",
    "SELECT\n",
    "  date,\n",
    "  transaction\n",
    "FROM\n",
    "  `mydataset.mytable`\n",
    "```\n",
    "\n",
    "Example linear regression (https://cloud.google.com/bigquery-ml/docs/linear-regression-tutorial):\n",
    "```\n",
    "#standardSQL\n",
    "'''\n",
    "CREATE OR REPLACE MODEL `bqml_tutorial.penguins_model`\n",
    "OPTIONS\n",
    "  (model_type='linear_reg',\n",
    "  input_label_cols=['body_mass_g']) AS\n",
    "SELECT\n",
    "  *\n",
    "FROM\n",
    "  `bigquery-public-data.ml_datasets.penguins`\n",
    "WHERE\n",
    "  body_mass_g IS NOT NULL\n",
    "'''\n",
    "```"
   ]
  },
  {
   "cell_type": "markdown",
   "id": "c90d94cc",
   "metadata": {},
   "source": [
    "#### About  models:\n",
    "For Time Series (https://cloud.google.com/bigquery-ml/docs/reference/standard-sql/bigqueryml-syntax-create-time-series)\n",
    "* time_series_timestamp_col is what you'd expect\n",
    "* time_series_data_col is what you're trying to predict\n",
    "\n",
    "For Linear Regression:\n",
    "\n",
    "* `input_label_cols` is the thing we're trying to predict\n",
    "* The items in the `SELECT` statement are what's used to predict the input label"
   ]
  },
  {
   "cell_type": "code",
   "execution_count": null,
   "id": "94ede6b6",
   "metadata": {},
   "outputs": [],
   "source": [
    "stations_within_30km_text = '\\', \\''.join(stations_within_30_kms)\n",
    "# standardSQL\n",
    "snow_in_burlington_vt_arima = \"\"\"\n",
    "CREATE OR REPLACE MODEL `msds-434-robords-oct.weather_prediction.burlington_snow_arima`\n",
    " OPTIONS(MODEL_TYPE='ARIMA_PLUS',\n",
    "         time_series_timestamp_col='date',\n",
    "         time_series_data_col='mean_value') AS\n",
    "SELECT\n",
    "  date,\n",
    "  AVG(value) as mean_value\n",
    "FROM\n",
    "  `bigquery-public-data.ghcn_d.ghcnd_2021`\n",
    "WHERE qflag IS NULL\n",
    "AND id IN ('{}')\n",
    "AND element = 'SNOW'\n",
    "GROUP BY date\n",
    "UNION ALL\n",
    "SELECT\n",
    "  date,\n",
    "  AVG(value) as mean_value\n",
    "FROM\n",
    "  `bigquery-public-data.ghcn_d.ghcnd_2020`\n",
    "WHERE qflag IS NULL\n",
    "AND id IN ('{}')\n",
    "AND element = 'SNOW'\n",
    "GROUP BY date\n",
    "UNION ALL\n",
    "SELECT\n",
    "  date,\n",
    "  AVG(value) as mean_value\n",
    "FROM\n",
    "  `bigquery-public-data.ghcn_d.ghcnd_2019`\n",
    "WHERE qflag IS NULL\n",
    "AND id IN ('{}')\n",
    "AND element = 'SNOW'\n",
    "GROUP BY date\n",
    "\"\"\".format(stations_within_30km_text, stations_within_30km_text,\n",
    "          stations_within_30km_text)\n"
   ]
  },
  {
   "cell_type": "code",
   "execution_count": null,
   "id": "30986e15",
   "metadata": {},
   "outputs": [],
   "source": [
    "snow_in_burlington_vt_arima"
   ]
  },
  {
   "cell_type": "code",
   "execution_count": null,
   "id": "3abd16c6",
   "metadata": {},
   "outputs": [],
   "source": [
    "burlington_2019_to_2021_model = client.query(snow_in_burlington_vt_arima)  # Make an API request."
   ]
  },
  {
   "cell_type": "markdown",
   "id": "8d90c9c6",
   "metadata": {},
   "source": [
    "## Get the training info\n",
    "\n",
    "For Arima, it's somewhat limited:\n",
    "https://cloud.google.com/bigquery-ml/docs/reference/standard-sql/bigqueryml-syntax-train\n"
   ]
  },
  {
   "cell_type": "code",
   "execution_count": null,
   "id": "e2532d4e",
   "metadata": {},
   "outputs": [],
   "source": [
    "burlington_arima_training_info = \"\"\"\n",
    "SELECT\n",
    "  *\n",
    "FROM\n",
    "  ML.TRAINING_INFO(MODEL `msds-434-robords-oct.weather_prediction.burlington_snow_arima`)\n",
    "\"\"\""
   ]
  },
  {
   "cell_type": "code",
   "execution_count": null,
   "id": "86d4cc8b",
   "metadata": {},
   "outputs": [],
   "source": [
    "burlington_2019_to_2021_model_training = client.query(burlington_arima_training_info)  # Make an API request.\n",
    "burlington_2019_to_2021_model_training.to_dataframe()"
   ]
  },
  {
   "cell_type": "markdown",
   "id": "d6ce6d7f",
   "metadata": {},
   "source": [
    "### Get the coefficients"
   ]
  },
  {
   "cell_type": "code",
   "execution_count": null,
   "id": "4d285548",
   "metadata": {},
   "outputs": [],
   "source": [
    "burlington_arima_coefficents_query = \"\"\"\n",
    "SELECT\n",
    " *\n",
    "FROM\n",
    " ML.ARIMA_COEFFICIENTS(MODEL `msds-434-robords-oct.weather_prediction.burlington_snow_arima`)\n",
    " \"\"\""
   ]
  },
  {
   "cell_type": "code",
   "execution_count": null,
   "id": "e5019bc5",
   "metadata": {},
   "outputs": [],
   "source": [
    "burlington_arima_coefficents = client.query(burlington_arima_coefficents_query) \n",
    "burlington_arima_coefficents.to_dataframe()"
   ]
  },
  {
   "cell_type": "markdown",
   "id": "781b56f9",
   "metadata": {},
   "source": [
    "## Evaluate the Model\n",
    "\n",
    "ARIMA has a special function: https://cloud.google.com/bigquery-ml/docs/reference/standard-sql/bigqueryml-syntax-arima-evaluate\n"
   ]
  },
  {
   "cell_type": "code",
   "execution_count": null,
   "id": "8479dfcc",
   "metadata": {},
   "outputs": [],
   "source": [
    "burlington_arima_eval = \"\"\"SELECT\n",
    "  *\n",
    "FROM\n",
    "  ML.ARIMA_EVALUATE(MODEL `msds-434-robords-oct.weather_prediction.burlington_snow_arima`, \n",
    "  STRUCT(FALSE AS show_all_candidate_models))\"\"\""
   ]
  },
  {
   "cell_type": "code",
   "execution_count": null,
   "id": "0b22cbe9",
   "metadata": {},
   "outputs": [],
   "source": [
    "burlington_2019_to_2021_model_eval = client.query(burlington_arima_eval)  # Make an API request.\n",
    "burlington_2019_to_2021_model_eval.to_dataframe()"
   ]
  },
  {
   "cell_type": "markdown",
   "id": "5a223d84",
   "metadata": {},
   "source": [
    "# Build a Forecast\n",
    "\n",
    "https://cloud.google.com/bigquery-ml/docs/arima-single-time-series-forecasting-tutorial\n",
    "\n",
    "This is 30 days into the future\n",
    "\n",
    "```\n",
    "SELECT\n",
    " *\n",
    "FROM\n",
    " ML.FORECAST(MODEL bqml_tutorial.ga_arima_model,\n",
    "             STRUCT(30 AS horizon, 0.8 AS confidence_level))\n",
    "```"
   ]
  },
  {
   "cell_type": "code",
   "execution_count": null,
   "id": "80636506",
   "metadata": {},
   "outputs": [],
   "source": [
    "burlington_arima_forecast_query = \"\"\"SELECT\n",
    " *\n",
    "FROM\n",
    " ML.FORECAST(MODEL `msds-434-robords-oct.weather_prediction.burlington_snow_arima`,\n",
    "             STRUCT(365 AS horizon, 0.8 AS confidence_level))\"\"\""
   ]
  },
  {
   "cell_type": "code",
   "execution_count": null,
   "id": "21c26b18",
   "metadata": {},
   "outputs": [],
   "source": [
    "burlington_arima_forecast_365 = client.query(burlington_arima_forecast_query)  # Make an API request.\n",
    "burlington_arima_forecast_365_df = burlington_arima_forecast_365.to_dataframe()"
   ]
  },
  {
   "cell_type": "code",
   "execution_count": null,
   "id": "5fe9659f",
   "metadata": {},
   "outputs": [],
   "source": [
    "burlington_arima_forecast_365_df"
   ]
  },
  {
   "cell_type": "code",
   "execution_count": null,
   "id": "4967c056",
   "metadata": {},
   "outputs": [],
   "source": [
    "burlington_2022_time_series_query = \"\"\"SELECT\n",
    "  date,\n",
    "  AVG(value) as mean_value\n",
    "FROM\n",
    "  `bigquery-public-data.ghcn_d.ghcnd_2022`\n",
    "WHERE qflag IS NULL\n",
    "AND id IN ('{}')\n",
    "AND element = 'SNOW'\n",
    "GROUP BY date\n",
    "\"\"\".format(stations_within_30km_text)\n",
    "\n",
    "burlington_2022_time_series_data = client.query(burlington_2022_time_series_query)\n",
    "\n",
    "burlington_2022_time_series_data_df = burlington_2022_time_series_data.to_dataframe()"
   ]
  },
  {
   "cell_type": "code",
   "execution_count": null,
   "id": "d0716dee",
   "metadata": {
    "scrolled": false
   },
   "outputs": [],
   "source": [
    "fig = px.scatter(burlington_2022_time_series_data_df,x=\"date\", y=\"mean_value\", title='Burlington VT Snow 2022')\n",
    "\n",
    "fig.add_trace(go.Scatter(x=burlington_arima_forecast_365_df[\"forecast_timestamp\"], \n",
    "                         y=burlington_arima_forecast_365_df[\"forecast_value\"], \n",
    "                         mode=\"lines\", name='Predicted Value'))\n",
    "fig.show()"
   ]
  },
  {
   "cell_type": "code",
   "execution_count": null,
   "id": "3d2b3c08",
   "metadata": {},
   "outputs": [],
   "source": []
  }
 ],
 "metadata": {
  "kernelspec": {
   "display_name": "Python 3 (ipykernel)",
   "language": "python",
   "name": "python3"
  },
  "language_info": {
   "codemirror_mode": {
    "name": "ipython",
    "version": 3
   },
   "file_extension": ".py",
   "mimetype": "text/x-python",
   "name": "python",
   "nbconvert_exporter": "python",
   "pygments_lexer": "ipython3",
   "version": "3.7.9"
  }
 },
 "nbformat": 4,
 "nbformat_minor": 5
}
